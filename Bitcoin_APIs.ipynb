{
 "cells": [
  {
   "cell_type": "markdown",
   "metadata": {
    "deletable": true,
    "editable": true
   },
   "source": [
    "## Bitcoin Hashing DEMO: SHA256\n",
    "Block #125552\n",
    "\n",
    "https://blockexplorer.com/block/00000000000000001e8d6829a8a21adc5d38d0a473b144b6765798e61f98bd1d\n",
    "https://blockchain.info/block/00000000000000001e8d6829a8a21adc5d38d0a473b144b6765798e61f98bd1d"
   ]
  },
  {
   "cell_type": "code",
   "execution_count": 1,
   "metadata": {
    "collapsed": false,
    "deletable": true,
    "editable": true
   },
   "outputs": [
    {
     "name": "stdout",
     "output_type": "stream",
     "text": [
      "b'00000000000000001e8d6829a8a21adc5d38d0a473b144b6765798e61f98bd1d'\n"
     ]
    }
   ],
   "source": [
    "import hashlib, codecs\n",
    "\n",
    "header_hex = (\n",
    "    \"01000000\" # Version\n",
    "    + \"81cd02ab7e569e8bcd9317e2fe99f2de44d49ab2b8851ba4a308000000000000\" # hashPrevBlock\n",
    "    + \"e320b6c2fffc8d750423db8b1eb942ae710e951ed797f7affc8892b0f1fc122b\" # hashMerkleRoot\n",
    "    + \"c7f5d74d\" # Time\n",
    "    + \"f2b9441a\" # Bits\n",
    "    + \"42a14695\" # Nonce\n",
    ")\n",
    "\n",
    "header_bin = codecs.decode(header_hex, 'hex')\n",
    "hashv = hashlib.sha256(hashlib.sha256(header_bin).digest()).digest()\n",
    "hashv = codecs.encode(hashv[::-1], 'hex_codec')\n",
    "print(hashv)\n",
    "\n",
    "# answer: 00000000000000001e8d6829a8a21adc5d38d0a473b144b6765798e61f98bd1d"
   ]
  },
  {
   "cell_type": "markdown",
   "metadata": {
    "deletable": true,
    "editable": true
   },
   "source": [
    "## Bitcoin API Demo\n",
    "https://blockchain.info/api\n",
    "\n",
    "https://github.com/blockchain/api-v1-client-python\n"
   ]
  },
  {
   "cell_type": "markdown",
   "metadata": {
    "collapsed": true,
    "deletable": true,
    "editable": true
   },
   "source": [
    "### blockexplorer module"
   ]
  },
  {
   "cell_type": "markdown",
   "metadata": {
    "deletable": true,
    "editable": true
   },
   "source": [
    "#### get_block"
   ]
  },
  {
   "cell_type": "code",
   "execution_count": 2,
   "metadata": {
    "collapsed": false,
    "deletable": true,
    "editable": true
   },
   "outputs": [
    {
     "name": "stdout",
     "output_type": "stream",
     "text": [
      "('hash', '0000000000000000023d699a203a6802fd4b1b59e421a288788207da8d8fba24')\n",
      "('version', 536870912)\n",
      "('previous_block', '000000000000000000b7e21ce871d3a88d7824a308d042b43d3abab1d863cb11')\n",
      "('merkle_root', '00ea9e1ac58ba8f00f8e25283c2de96e9a68da3e8b27406dca07091a726aa59b')\n",
      "('time', 1489583410)\n",
      "('bits', 402809567)\n",
      "('fee', 206779979)\n",
      "('nonce', 2933840726)\n",
      "('n_tx', 2330)\n",
      "('size', 998128)\n",
      "('block_index', 1470669)\n",
      "('main_chain', True)\n",
      "('height', 457352)\n",
      "('received_time', 1489583410)\n",
      "('relayed_by', '0.0.0.0')\n",
      "('transactions', 2330)\n"
     ]
    }
   ],
   "source": [
    "# pip install blockchain\n",
    "from blockchain import blockexplorer\n",
    "block = blockexplorer.get_block('0000000000000000023d699a203a6802fd4b1b59e421a288788207da8d8fba24')\n",
    "\n",
    "for item in vars(block).items():\n",
    "    print(item if item[0] != 'transactions' else (item[0], len(item[1])))\n",
    "txs = item[1] # last item[1] are transactions"
   ]
  },
  {
   "cell_type": "code",
   "execution_count": 3,
   "metadata": {
    "collapsed": false
   },
   "outputs": [
    {
     "name": "stdout",
     "output_type": "stream",
     "text": [
      "('double_spend', False)\n",
      "('block_height', 457352)\n",
      "('time', 1489583410)\n",
      "('relayed_by', '0.0.0.0')\n",
      "('hash', '791abf370ecf75187ea8981720c265f29b29441b02794f8d3b58d2c618c34402')\n",
      "('tx_index', 232586795)\n",
      "('version', 1)\n",
      "('size', 177)\n",
      "('inputs', [<blockchain.blockexplorer.Input object at 0x000001CE6F41F160>])\n",
      "('outputs', [<blockchain.blockexplorer.Output object at 0x000001CE6F41F198>])\n",
      "IN\n",
      "{'script_sig': '0388fa06234d696e656420627920416e74506f6f6c20626a352f4542312f4144362f022058c93d32fabe6d6d0983b3098ec8a0870545fef5e44d431500741e34ff5057592abe5bba6252bcf7040000000000000010190000070c1a00', 'sequence': 4294967295}\n",
      "OUT\n",
      "{'n': 0, 'value': 1456779979, 'address': '1L75eRMgeCwAxEjD1oWXjLgud9jxwxm34u', 'tx_index': 232586795, 'script': '76a914d190c364c43ff16cbeedbb28308efef13df61f8188ac', 'spent': False}\n"
     ]
    }
   ],
   "source": [
    "tx = txs[0]\n",
    "for item in vars(tx).items():\n",
    "    print(item)\n",
    "    if item[0] == \"inputs\":\n",
    "        inputs = item[1]\n",
    "    elif item[0] == \"outputs\":\n",
    "        outputs = item[1]\n",
    "        \n",
    "print(\"IN\")\n",
    "for i in inputs:\n",
    "    print(vars(i))\n",
    "print(\"OUT\")\n",
    "for o in outputs:\n",
    "    print(vars(o))  "
   ]
  },
  {
   "cell_type": "code",
   "execution_count": 4,
   "metadata": {
    "collapsed": false
   },
   "outputs": [
    {
     "data": {
      "text/plain": [
       "'\\nYou can also try to get the same information by using the following URLs.\\nhttps://blockchain.info/rawblock/$block_index\\nhttps://blockchain.info/rawblock/$block_hash\\nhttps://blockchain.info/block-index/$block_index?format=json\\n'"
      ]
     },
     "execution_count": 4,
     "metadata": {},
     "output_type": "execute_result"
    }
   ],
   "source": [
    "\"\"\"\n",
    "You can also try to get the same information by using the following URLs.\n",
    "https://blockchain.info/rawblock/$block_index\n",
    "https://blockchain.info/rawblock/$block_hash\n",
    "https://blockchain.info/block-index/$block_index?format=json\n",
    "\"\"\""
   ]
  },
  {
   "cell_type": "markdown",
   "metadata": {
    "deletable": true,
    "editable": true
   },
   "source": [
    "#### get_tx"
   ]
  },
  {
   "cell_type": "code",
   "execution_count": 5,
   "metadata": {
    "collapsed": false,
    "deletable": true,
    "editable": true
   },
   "outputs": [
    {
     "name": "stdout",
     "output_type": "stream",
     "text": [
      "('double_spend', False)\n",
      "('block_height', 320086)\n",
      "('time', 1410408459)\n",
      "('relayed_by', '198.23.246.177')\n",
      "('hash', 'd4af240386cdacab4ca666d178afc88280b620ae308ae8d2585e9ab8fc664a94')\n",
      "('tx_index', 64247404)\n",
      "('version', 1)\n",
      "('size', 373)\n",
      "('inputs', [<blockchain.blockexplorer.Input object at 0x000001CE6D6995F8>, <blockchain.blockexplorer.Input object at 0x000001CE6D6996A0>])\n",
      "('outputs', [<blockchain.blockexplorer.Output object at 0x000001CE6D699668>, <blockchain.blockexplorer.Output object at 0x000001CE6D6996D8>])\n"
     ]
    }
   ],
   "source": [
    "tx = blockexplorer.get_tx('d4af240386cdacab4ca666d178afc88280b620ae308ae8d2585e9ab8fc664a94')\n",
    "\n",
    "for item in vars(tx).items():\n",
    "    print(item)"
   ]
  },
  {
   "cell_type": "code",
   "execution_count": 6,
   "metadata": {
    "collapsed": false
   },
   "outputs": [
    {
     "data": {
      "text/plain": [
       "'\\nhttps://blockchain.info/rawtx/$tx_index\\nhttps://blockchain.info/rawtx/$tx_hash\\nhttps://blockchain.info/tx-index/$tx_index?format=json\\n'"
      ]
     },
     "execution_count": 6,
     "metadata": {},
     "output_type": "execute_result"
    }
   ],
   "source": [
    "\"\"\"\n",
    "https://blockchain.info/rawtx/$tx_index\n",
    "https://blockchain.info/rawtx/$tx_hash\n",
    "https://blockchain.info/tx-index/$tx_index?format=json\n",
    "\"\"\""
   ]
  },
  {
   "cell_type": "markdown",
   "metadata": {
    "deletable": true,
    "editable": true
   },
   "source": [
    "#### get_block_height"
   ]
  },
  {
   "cell_type": "code",
   "execution_count": 7,
   "metadata": {
    "collapsed": false,
    "deletable": true,
    "editable": true
   },
   "outputs": [
    {
     "name": "stdout",
     "output_type": "stream",
     "text": [
      "('hash', '00000000f1dd7a2c8dbb326f034b579058f5bea36438c2b06b21eb1facaed7e1')\n",
      "('version', 1)\n",
      "('previous_block', '00000000ffb05d42c619788bb38636c1e59ec056ad854893cb9fcb6ceabe14dd')\n",
      "('merkle_root', '115f940a1363ca9ab303fdd3fdddb8d6d0d98fbfc013419fc66917b2bded5208')\n",
      "('time', 1233470027)\n",
      "('bits', 486604799)\n",
      "('fee', 0)\n",
      "('nonce', 44223186)\n",
      "('n_tx', 1)\n",
      "('size', 215)\n",
      "('block_index', 17419)\n",
      "('main_chain', True)\n",
      "('height', 2570)\n",
      "('received_time', 1233470027)\n",
      "('relayed_by', None)\n",
      "('transactions', 1 tx)\n"
     ]
    }
   ],
   "source": [
    "blocks = blockexplorer.get_block_height(2570)\n",
    "\n",
    "for item in vars(blocks[0]).items():\n",
    "    print(item if item[0] != \"transactions\" else \"('transactions', %d tx)\" % len(item[1]))"
   ]
  },
  {
   "cell_type": "code",
   "execution_count": 8,
   "metadata": {
    "collapsed": false
   },
   "outputs": [
    {
     "data": {
      "text/plain": [
       "'\\nhttps://blockchain.info/block-height/$block_height?format=json\\n'"
      ]
     },
     "execution_count": 8,
     "metadata": {},
     "output_type": "execute_result"
    }
   ],
   "source": [
    "\"\"\"\n",
    "https://blockchain.info/block-height/$block_height?format=json\n",
    "\"\"\""
   ]
  },
  {
   "cell_type": "markdown",
   "metadata": {
    "deletable": true,
    "editable": true
   },
   "source": [
    "#### get_address"
   ]
  },
  {
   "cell_type": "code",
   "execution_count": 9,
   "metadata": {
    "collapsed": false,
    "deletable": true,
    "editable": true
   },
   "outputs": [
    {
     "name": "stdout",
     "output_type": "stream",
     "text": [
      "('hash160', 'b44370a1e57f7754507df560b8e06eeed2d0a76a')\n",
      "('address', '1HS9RLmKvJ7D1ZYgfPExJZQZA1DMU3DEVd')\n",
      "('n_tx', 262)\n",
      "('total_received', 1406390754)\n",
      "('total_sent', 1405480754)\n",
      "('final_balance', 910000)\n",
      "('transactions', 50 tx)\n"
     ]
    }
   ],
   "source": [
    "address = blockexplorer.get_address('1HS9RLmKvJ7D1ZYgfPExJZQZA1DMU3DEVd')\n",
    "\n",
    "for item in vars(address).items():\n",
    "    print(item if item[0] != \"transactions\" else \"('transactions', %d tx)\" % len(item[1]))"
   ]
  },
  {
   "cell_type": "code",
   "execution_count": 10,
   "metadata": {
    "collapsed": false
   },
   "outputs": [
    {
     "data": {
      "text/plain": [
       "'\\nhttps://blockchain.info/address/$hash_160?format=json\\nhttps://blockchain.info/address/$bitcoin_address?format=json\\nhttps://blockchain.info/rawaddr/$bitcoin_address\\n'"
      ]
     },
     "execution_count": 10,
     "metadata": {},
     "output_type": "execute_result"
    }
   ],
   "source": [
    "\"\"\"\n",
    "https://blockchain.info/address/$hash_160?format=json\n",
    "https://blockchain.info/address/$bitcoin_address?format=json\n",
    "https://blockchain.info/rawaddr/$bitcoin_address\n",
    "\"\"\""
   ]
  },
  {
   "cell_type": "markdown",
   "metadata": {
    "deletable": true,
    "editable": true
   },
   "source": [
    "#### get_unspent_outputs"
   ]
  },
  {
   "cell_type": "code",
   "execution_count": 11,
   "metadata": {
    "collapsed": false,
    "deletable": true,
    "editable": true
   },
   "outputs": [
    {
     "name": "stdout",
     "output_type": "stream",
     "text": [
      "('tx_hash', 'a3576f90e881d44e1cf3ad72b7f16c798ac47eb3fb3c2d22b660157e748e45df')\n",
      "('tx_index', 68299195)\n",
      "('tx_output_n', 0)\n",
      "('script', '76a914b44370a1e57f7754507df560b8e06eeed2d0a76a88ac')\n",
      "('value', 910000)\n",
      "('value_hex', '0de2b0')\n",
      "('confirmations', 129074)\n"
     ]
    }
   ],
   "source": [
    "outs = blockexplorer.get_unspent_outputs('1HS9RLmKvJ7D1ZYgfPExJZQZA1DMU3DEVd')\n",
    "\n",
    "for item in vars(outs[0]).items():\n",
    "    print(item)"
   ]
  },
  {
   "cell_type": "code",
   "execution_count": 12,
   "metadata": {
    "collapsed": false
   },
   "outputs": [
    {
     "data": {
      "text/plain": [
       "'\\nhttps://blockchain.info/unspent?active=$address\\n'"
      ]
     },
     "execution_count": 12,
     "metadata": {},
     "output_type": "execute_result"
    }
   ],
   "source": [
    "\"\"\"\n",
    "https://blockchain.info/unspent?active=$address\n",
    "\"\"\""
   ]
  },
  {
   "cell_type": "markdown",
   "metadata": {
    "deletable": true,
    "editable": true
   },
   "source": [
    "#### get_latest_block"
   ]
  },
  {
   "cell_type": "code",
   "execution_count": 13,
   "metadata": {
    "collapsed": false,
    "deletable": true,
    "editable": true
   },
   "outputs": [
    {
     "name": "stdout",
     "output_type": "stream",
     "text": [
      "('hash', '000000000000000000c9724db3335d73cb02d892c84f89df805a75db963bc2aa')\n",
      "('time', 1489586262)\n",
      "('block_index', 1476371)\n",
      "('height', 457358)\n",
      "('tx_indexes', 1990 tx_indexes)\n"
     ]
    }
   ],
   "source": [
    "latest_block = blockexplorer.get_latest_block()\n",
    "\n",
    "for item in vars(latest_block).items():\n",
    "    print(item if item[0] != \"tx_indexes\" else \"('tx_indexes', %d tx_indexes)\" % len(item[1]))"
   ]
  },
  {
   "cell_type": "code",
   "execution_count": 14,
   "metadata": {
    "collapsed": false
   },
   "outputs": [
    {
     "data": {
      "text/plain": [
       "'\\nhttps://blockchain.info/latestblock\\n'"
      ]
     },
     "execution_count": 14,
     "metadata": {},
     "output_type": "execute_result"
    }
   ],
   "source": [
    "\"\"\"\n",
    "https://blockchain.info/latestblock\n",
    "\"\"\""
   ]
  },
  {
   "cell_type": "markdown",
   "metadata": {
    "deletable": true,
    "editable": true
   },
   "source": [
    "#### get_unconfirmed_tx"
   ]
  },
  {
   "cell_type": "code",
   "execution_count": 15,
   "metadata": {
    "collapsed": false,
    "deletable": true,
    "editable": true
   },
   "outputs": [
    {
     "name": "stdout",
     "output_type": "stream",
     "text": [
      "10\n",
      "{'double_spend': False, 'block_height': -1, 'time': 1489586557, 'relayed_by': '136.243.23.208', 'hash': 'c98572ba86545cee3898174421d525b0e6d9500506633f4ba8695249b859475a', 'tx_index': 232600339, 'version': 2, 'size': 519, 'inputs': [<blockchain.blockexplorer.Input object at 0x000001CE6F402630>, <blockchain.blockexplorer.Input object at 0x000001CE6F4025C0>, <blockchain.blockexplorer.Input object at 0x000001CE6F4026A0>], 'outputs': [<blockchain.blockexplorer.Output object at 0x000001CE6F402668>, <blockchain.blockexplorer.Output object at 0x000001CE6F4027F0>]}\n"
     ]
    }
   ],
   "source": [
    "txs = blockexplorer.get_unconfirmed_tx()\n",
    "\n",
    "print(len(txs))\n",
    "for tx in txs:\n",
    "    print(vars(tx))\n",
    "    break"
   ]
  },
  {
   "cell_type": "code",
   "execution_count": 16,
   "metadata": {
    "collapsed": false
   },
   "outputs": [
    {
     "data": {
      "text/plain": [
       "'\\nhttps://blockchain.info/unconfirmed-transactions?format=json\\n'"
      ]
     },
     "execution_count": 16,
     "metadata": {},
     "output_type": "execute_result"
    }
   ],
   "source": [
    "\"\"\"\n",
    "https://blockchain.info/unconfirmed-transactions?format=json\n",
    "\"\"\""
   ]
  },
  {
   "cell_type": "markdown",
   "metadata": {
    "deletable": true,
    "editable": true
   },
   "source": [
    "### exchangerates module"
   ]
  },
  {
   "cell_type": "markdown",
   "metadata": {
    "deletable": true,
    "editable": true
   },
   "source": [
    "#### get_ticker"
   ]
  },
  {
   "cell_type": "code",
   "execution_count": 17,
   "metadata": {
    "collapsed": false,
    "deletable": true,
    "editable": true
   },
   "outputs": [
    {
     "name": "stdout",
     "output_type": "stream",
     "text": [
      "USD 1254.79\n",
      "ISK 135141.75\n",
      "HKD 9742.78\n",
      "TWD 38943.66\n",
      "CHF 1268.53\n",
      "EUR 1175.64\n",
      "DKK 8737.54\n",
      "CLP 833055.08\n",
      "CAD 1689.89\n",
      "CNY 8667.78\n",
      "THB 44356.83\n",
      "AUD 1662.96\n",
      "SGD 1771.95\n",
      "KRW 1441628.23\n",
      "JPY 144051.15\n",
      "PLN 5099.75\n",
      "GBP 1031.7\n",
      "SEK 11309.58\n",
      "NZD 1812.68\n",
      "BRL 3939.41\n",
      "RUB 74060.09\n"
     ]
    }
   ],
   "source": [
    "from blockchain import exchangerates\n",
    "\n",
    "ticker = exchangerates.get_ticker()\n",
    "#print the 15 min price for every currency\n",
    "for k in ticker:\n",
    "    print(k, ticker[k].p15min)"
   ]
  },
  {
   "cell_type": "code",
   "execution_count": 18,
   "metadata": {
    "collapsed": false
   },
   "outputs": [
    {
     "data": {
      "text/plain": [
       "'\\nhttps://blockchain.info/ticker\\n'"
      ]
     },
     "execution_count": 18,
     "metadata": {},
     "output_type": "execute_result"
    }
   ],
   "source": [
    "\"\"\"\n",
    "https://blockchain.info/ticker\n",
    "\"\"\""
   ]
  },
  {
   "cell_type": "markdown",
   "metadata": {
    "deletable": true,
    "editable": true
   },
   "source": [
    "#### to_btc"
   ]
  },
  {
   "cell_type": "code",
   "execution_count": 19,
   "metadata": {
    "collapsed": false,
    "deletable": true,
    "editable": true
   },
   "outputs": [
    {
     "name": "stdout",
     "output_type": "stream",
     "text": [
      "3.46042764\n"
     ]
    }
   ],
   "source": [
    "btc_amount = exchangerates.to_btc('USD', 4342.11)\n",
    "print(btc_amount)"
   ]
  },
  {
   "cell_type": "code",
   "execution_count": 20,
   "metadata": {
    "collapsed": false
   },
   "outputs": [
    {
     "data": {
      "text/plain": [
       "'\\nhttps://blockchain.info/tobtc\\n'"
      ]
     },
     "execution_count": 20,
     "metadata": {},
     "output_type": "execute_result"
    }
   ],
   "source": [
    "\"\"\"\n",
    "https://blockchain.info/tobtc\n",
    "\"\"\""
   ]
  },
  {
   "cell_type": "markdown",
   "metadata": {
    "deletable": true,
    "editable": true
   },
   "source": [
    "### statistics module"
   ]
  },
  {
   "cell_type": "markdown",
   "metadata": {
    "deletable": true,
    "editable": true
   },
   "source": [
    "#### get"
   ]
  },
  {
   "cell_type": "code",
   "execution_count": 21,
   "metadata": {
    "collapsed": false,
    "deletable": true,
    "editable": true
   },
   "outputs": [
    {
     "name": "stdout",
     "output_type": "stream",
     "text": [
      "('trade_volume_btc', 38790.99621941)\n",
      "('miners_revenue_usd', 2570395.867072936)\n",
      "('btc_mined', 181250000000)\n",
      "('trade_volume_usd', 48693072.96774862)\n",
      "('difficulty', 460769358090)\n",
      "('minutes_between_blocks', 9.4097)\n",
      "('number_of_transactions', 291356)\n",
      "('hash_rate', 3321220509.0201635)\n",
      "('timestamp', 1489586330000)\n",
      "('mined_blocks', 145)\n",
      "('blocks_size', 138698499)\n",
      "('total_fees_btc', 23518790066)\n",
      "('total_btc_sent', 224626062847984)\n",
      "('estimated_btc_sent', 23562425063691)\n",
      "('total_btc', 1621693750000000)\n",
      "('total_blocks', 457355)\n",
      "('next_retarget', 457631)\n",
      "('estimated_transaction_volume_usd', 295771440.47394234)\n",
      "('miners_revenue_btc', 2047)\n",
      "('market_price_usd', 1255.2674)\n"
     ]
    }
   ],
   "source": [
    "from blockchain import statistics\n",
    "stats = statistics.get()\n",
    "\n",
    "for item in vars(stats).items():\n",
    "    print(item)"
   ]
  },
  {
   "cell_type": "code",
   "execution_count": 22,
   "metadata": {
    "collapsed": false
   },
   "outputs": [
    {
     "data": {
      "text/plain": [
       "'\\nhttps://api.blockchain.info/stats\\n'"
      ]
     },
     "execution_count": 22,
     "metadata": {},
     "output_type": "execute_result"
    }
   ],
   "source": [
    "\"\"\"\n",
    "https://api.blockchain.info/stats\n",
    "\"\"\""
   ]
  },
  {
   "cell_type": "markdown",
   "metadata": {
    "deletable": true,
    "editable": true
   },
   "source": [
    "### pushtx module"
   ]
  },
  {
   "cell_type": "markdown",
   "metadata": {
    "deletable": true,
    "editable": true
   },
   "source": [
    "#### pushtx"
   ]
  },
  {
   "cell_type": "code",
   "execution_count": 23,
   "metadata": {
    "collapsed": true,
    "deletable": true,
    "editable": true
   },
   "outputs": [],
   "source": [
    "'''\n",
    "Call the pushtx endpoint and broadcast a hex encoded transaction.\n",
    "The method does not return anything upon success,\n",
    "but will raise exceptions if the transaction is malformed.\n",
    "'''\n",
    "\n",
    "from blockchain import pushtx\n",
    "#pushtx.pushtx()"
   ]
  },
  {
   "cell_type": "markdown",
   "metadata": {},
   "source": [
    "--------------------------\n",
    "You cannot use the following APsI unless you get a key from http://blockchain.info"
   ]
  },
  {
   "cell_type": "markdown",
   "metadata": {
    "deletable": true,
    "editable": true
   },
   "source": [
    "### createwallet module"
   ]
  },
  {
   "cell_type": "markdown",
   "metadata": {
    "deletable": true,
    "editable": true
   },
   "source": [
    "#### create_wallet"
   ]
  },
  {
   "cell_type": "code",
   "execution_count": null,
   "metadata": {
    "collapsed": true,
    "deletable": true,
    "editable": true
   },
   "outputs": [],
   "source": [
    "from blockchain import createwallet\n",
    "\n",
    "wallet = createwallet.create_wallet(\n",
    "    password = 'password123',\n",
    "    api_code = '58ck39ajuiw', # it is the API key from https://api.blockchain.info/customer/signup\n",
    "    service_url = 'http://localhost:3000/', # see https://github.com/blockchain/service-my-wallet-v3\n",
    "    label = 'Test wallet'\n",
    ")"
   ]
  },
  {
   "cell_type": "markdown",
   "metadata": {
    "deletable": true,
    "editable": true
   },
   "source": [
    "### wallet module"
   ]
  },
  {
   "cell_type": "markdown",
   "metadata": {
    "deletable": true,
    "editable": true
   },
   "source": [
    "#### wallet"
   ]
  },
  {
   "cell_type": "code",
   "execution_count": 13,
   "metadata": {
    "collapsed": true,
    "deletable": true,
    "editable": true
   },
   "outputs": [],
   "source": [
    "from blockchain.wallet import Wallet\n",
    "\n",
    "wallet = Wallet(\n",
    "    identifier = 'ada4e4b6-3c9f-11e4-baad-164230d1df67',\n",
    "    password = 'password123',\n",
    "    service_url = 'http://localhost:3000'\n",
    ")"
   ]
  },
  {
   "cell_type": "markdown",
   "metadata": {
    "deletable": true,
    "editable": true
   },
   "source": [
    "### send"
   ]
  },
  {
   "cell_type": "code",
   "execution_count": null,
   "metadata": {
    "collapsed": true,
    "deletable": true,
    "editable": true
   },
   "outputs": [],
   "source": [
    "payment = wallet.send('1NAF7GbdyRg3miHNrw2bGxrd63tfMEmJob', 1000000, from_address='1A8JiWcwvpY7tAopUkSnGuEYHmzGYfZPiq')\n",
    "\n",
    "print(payment.tx_hash)"
   ]
  },
  {
   "cell_type": "markdown",
   "metadata": {
    "deletable": true,
    "editable": true
   },
   "source": [
    "#### send_many"
   ]
  },
  {
   "cell_type": "code",
   "execution_count": null,
   "metadata": {
    "collapsed": true,
    "deletable": true,
    "editable": true
   },
   "outputs": [],
   "source": [
    "recipients = {\n",
    "    '1NAF7GbdyRg3miHNrw2bGxrd63tfMEmJob' : 1428300,\n",
    "    '1A8JiWcwvpY7tAopUkSnGuEYHmzGYfZPiq' : 234522117\n",
    "}\n",
    "payment = wallet.send_many(recipients)\n",
    "\n",
    "print(payment.tx_hash)"
   ]
  },
  {
   "cell_type": "markdown",
   "metadata": {
    "deletable": true,
    "editable": true
   },
   "source": [
    "#### get_balance"
   ]
  },
  {
   "cell_type": "code",
   "execution_count": null,
   "metadata": {
    "collapsed": true,
    "deletable": true,
    "editable": true
   },
   "outputs": [],
   "source": [
    "print(wallet.get_balance()) "
   ]
  },
  {
   "cell_type": "markdown",
   "metadata": {
    "deletable": true,
    "editable": true
   },
   "source": [
    "#### list_addresses"
   ]
  },
  {
   "cell_type": "code",
   "execution_count": null,
   "metadata": {
    "collapsed": true,
    "deletable": true,
    "editable": true
   },
   "outputs": [],
   "source": [
    "# List all active addresses in the wallet.\n",
    "addresses = wallet.list_addresses()\n",
    "for a in addresses:\n",
    "    print(a.balance)"
   ]
  },
  {
   "cell_type": "markdown",
   "metadata": {
    "deletable": true,
    "editable": true
   },
   "source": [
    "#### get_address"
   ]
  },
  {
   "cell_type": "code",
   "execution_count": null,
   "metadata": {
    "collapsed": false,
    "deletable": true,
    "editable": true
   },
   "outputs": [],
   "source": [
    "addr = wallet.get_address('1NAF7GbdyRg3miHNrw2bGxrd63tfMEmJob', confirmations = 2)\n",
    "print(addr.balance)"
   ]
  },
  {
   "cell_type": "markdown",
   "metadata": {
    "deletable": true,
    "editable": true
   },
   "source": [
    "#### new_address"
   ]
  },
  {
   "cell_type": "code",
   "execution_count": null,
   "metadata": {
    "collapsed": true,
    "deletable": true,
    "editable": true
   },
   "outputs": [],
   "source": [
    "newaddr = wallet.new_address('test_label')"
   ]
  }
 ],
 "metadata": {
  "kernelspec": {
   "display_name": "Python 3",
   "language": "python",
   "name": "python3"
  },
  "language_info": {
   "codemirror_mode": {
    "name": "ipython",
    "version": 3
   },
   "file_extension": ".py",
   "mimetype": "text/x-python",
   "name": "python",
   "nbconvert_exporter": "python",
   "pygments_lexer": "ipython3",
   "version": "3.6.0"
  }
 },
 "nbformat": 4,
 "nbformat_minor": 0
}
