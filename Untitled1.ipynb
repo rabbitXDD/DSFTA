{
 "cells": [
  {
   "cell_type": "code",
   "execution_count": 6,
   "metadata": {
    "collapsed": false
   },
   "outputs": [
    {
     "name": "stdout",
     "output_type": "stream",
     "text": [
      "<META HTTP-EQUIV=Refresh CONTENT=\"0; URL=https://nccu.edu.tw/indexs.html\" />\n",
      "\n"
     ]
    }
   ],
   "source": [
    "import urllib.request\n",
    "\n",
    "headers = {\n",
    "    'User-agent' : 'Mozilla/5.0 (Macintosh; Intel Mac OS X 10_12_3) AppleWebKit/602.4.8 (KHTML, like Gecko) Version/10.0.3 Safari/602.4.8', # readable header\n",
    "    'Spam' : 'Eggs' # custmized header is not reaable for cgi \n",
    "}\n",
    "\n",
    "\n",
    "req = urllib.request.Request(url = 'http://nccu.edu.tw',\n",
    "                             data = b'',\n",
    "                             headers = headers,\n",
    "                             method = 'GET')\n",
    "\n",
    "with urllib.request.urlopen(req) as f:\n",
    "    data = b''\n",
    "    buf = f.read(300)\n",
    "    data += buf\n",
    "    while buf:\n",
    "        buf = f.read(300)\n",
    "        data += buf\n",
    "    print(data.decode('utf-8'))\n",
    "    \n",
    "\n",
    "\n",
    "\n"
   ]
  },
  {
   "cell_type": "code",
   "execution_count": null,
   "metadata": {
    "collapsed": true
   },
   "outputs": [],
   "source": []
  }
 ],
 "metadata": {
  "kernelspec": {
   "display_name": "Python 3",
   "language": "python",
   "name": "python3"
  },
  "language_info": {
   "codemirror_mode": {
    "name": "ipython",
    "version": 3
   },
   "file_extension": ".py",
   "mimetype": "text/x-python",
   "name": "python",
   "nbconvert_exporter": "python",
   "pygments_lexer": "ipython3",
   "version": "3.6.0"
  }
 },
 "nbformat": 4,
 "nbformat_minor": 0
}
