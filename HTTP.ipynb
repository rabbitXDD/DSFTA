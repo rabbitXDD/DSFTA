{
 "cells": [
  {
   "cell_type": "markdown",
   "metadata": {},
   "source": [
    "### HTTP client\n",
    "start a builtin server by 'python -m http.server 8000'\n",
    "\n",
    "(Explain why I don't teach writing a http server!)"
   ]
  },
  {
   "cell_type": "code",
   "execution_count": 1,
   "metadata": {
    "collapsed": false
   },
   "outputs": [],
   "source": [
    "import socket\n",
    "\n",
    "HOST = '127.0.0.1'\n",
    "PORT = 8000\n",
    "with socket.socket(socket.AF_INET, socket.SOCK_STREAM) as s:\n",
    "    s.connect((HOST, PORT))\n",
    "    s.sendall(b'GET /index.html HTTP/1.1\\r\\n\\r\\n')\n",
    "    data = s.recv(1024)"
   ]
  },
  {
   "cell_type": "code",
   "execution_count": 2,
   "metadata": {
    "collapsed": false
   },
   "outputs": [
    {
     "name": "stdout",
     "output_type": "stream",
     "text": [
      "b'HTTP/1.0 200 OK\\r\\nServer: SimpleHTTP/0.6 Python/3.6.0\\r\\nDate: Mon, 13 Mar 2017 07:40:21 GMT\\r\\nContent-type: text/html\\r\\nContent-Length: 5\\r\\nLast-Modified: Mon, 06 Mar 2017 08:20:59 GMT\\r\\n\\r\\n'\n"
     ]
    }
   ],
   "source": [
    "print(data)"
   ]
  },
  {
   "cell_type": "code",
   "execution_count": 3,
   "metadata": {
    "collapsed": false
   },
   "outputs": [
    {
     "name": "stdout",
     "output_type": "stream",
     "text": [
      "[b'HTTP/1.0 200 OK',\n",
      " b'Server: SimpleHTTP/0.6 Python/3.6.0',\n",
      " b'Date: Mon, 13 Mar 2017 07:40:21 GMT',\n",
      " b'Content-type: text/html',\n",
      " b'Content-Length: 5',\n",
      " b'Last-Modified: Mon, 06 Mar 2017 08:20:59 GMT',\n",
      " b'',\n",
      " b'']\n",
      "HTTP/1.0 200 OK\n",
      "Server: SimpleHTTP/0.6 Python/3.6.0\n",
      "Date: Mon, 13 Mar 2017 07:40:21 GMT\n",
      "Content-type: text/html\n",
      "Content-Length: 5\n",
      "Last-Modified: Mon, 06 Mar 2017 08:20:59 GMT\n",
      "\n",
      "\n"
     ]
    }
   ],
   "source": [
    "tokens = data.split(b\"\\r\\n\")\n",
    "\n",
    "import pprint as pp\n",
    "pp.pprint(tokens)\n",
    "\n",
    "for t in tokens:\n",
    "    print(t.decode(\"utf-8\"))"
   ]
  },
  {
   "cell_type": "code",
   "execution_count": 4,
   "metadata": {
    "collapsed": false
   },
   "outputs": [],
   "source": [
    "# Try CGI and multiple rcv()\n",
    "\n",
    "''' /cgi-bin/mycgi.py can be as simple as:\n",
    "#!/usr/bin/env python\n",
    "print(\"Content-Type: text/html)\n",
    "print()\n",
    "print(\"<html><body>CGI</body></html>\")\n",
    "'''\n",
    "# see https://openhome.cc/Gossip/Python/YieldGenerator.html\n",
    "import socket\n",
    "\n",
    "def recvall(sock, buffer_size = 4096):\n",
    "    buf = sock.recv(buffer_size)\n",
    "    while buf:\n",
    "        yield buf\n",
    "        buf = sock.recv(buffer_size)\n",
    "\n",
    "HOST = '127.0.0.1'\n",
    "PORT = 8000\n",
    "with socket.socket(socket.AF_INET, socket.SOCK_STREAM) as s:\n",
    "    s.connect((HOST, PORT))\n",
    "    s.sendall(b'GET /cgi-bin/mycgi.py HTTP/1.1\\r\\n\\r\\n')\n",
    "    \n",
    "    response = b''.join(recvall(s))"
   ]
  },
  {
   "cell_type": "code",
   "execution_count": 5,
   "metadata": {
    "collapsed": false
   },
   "outputs": [
    {
     "name": "stdout",
     "output_type": "stream",
     "text": [
      "b'HTTP/1.0 200 Script output follows\\r\\nServer: SimpleHTTP/0.6 Python/3.6.0\\r\\nDate: Mon, 13 Mar 2017 07:40:21 GMT\\r\\nContent-type: text/html\\r\\n\\r\\n<h3>Input</h3>\\r\\n<h3>Environment</h3>\\r\\n<b>ALLUSERSPROFILE</b>: C:\\\\ProgramData</br>\\r\\n<b>APPDATA</b>: C:\\\\Users\\\\hsiao\\\\AppData\\\\Roaming</br>\\r\\n<b>COMMONPROGRAMFILES</b>: C:\\\\Program Files\\\\Common Files</br>\\r\\n<b>COMMONPROGRAMFILES(X86)</b>: C:\\\\Program Files (x86)\\\\Common Files</br>\\r\\n<b>COMMONPROGRAMW6432</b>: C:\\\\Program Files\\\\Common Files</br>\\r\\n<b>COMPUTERNAME</b>: DESKTOP-7M5J7JB</br>\\r\\n<b>COMSPEC</b>: C:\\\\WINDOWS\\\\system32\\\\cmd.exe</br>\\r\\n<b>CONDA_DEFAULT_ENV</b>: C:\\\\Users\\\\hsiao\\\\Miniconda3</br>\\r\\n<b>CONDA_PREFIX</b>: C:\\\\Users\\\\hsiao\\\\Miniconda3</br>\\r\\n<b>CONDA_PS1_BACKUP</b>: $P$G</br>\\r\\n<b>HOMEDRIVE</b>: C:</br>\\r\\n<b>HOMEPATH</b>: \\\\Users\\\\hsiao</br>\\r\\n<b>LOCALAPPDATA</b>: C:\\\\Users\\\\hsiao\\\\AppData\\\\Local</br>\\r\\n<b>LOGONSERVER</b>: \\\\\\\\DESKTOP-7M5J7JB</br>\\r\\n<b>NUMBER_OF_PROCESSORS</b>: 4</br>\\r\\n<b>ONEDRIVE</b>: C:\\\\Users\\\\hsiao\\\\OneDrive</br>\\r\\n<b>OS</b>: Windows_NT</br>\\r\\n<b>PATH</b>: C:\\\\Users\\\\hsiao\\\\Miniconda3\\\\Library\\\\bin;C:\\\\Users\\\\hsiao\\\\Miniconda3\\\\Library\\\\bin;C:\\\\Users\\\\hsiao\\\\Miniconda3;C:\\\\Users\\\\hsiao\\\\Miniconda3\\\\Library\\\\mingw-w64\\\\bin;C:\\\\Users\\\\hsiao\\\\Miniconda3\\\\Library\\\\usr\\\\bin;C:\\\\Users\\\\hsiao\\\\Miniconda3\\\\Library\\\\bin;C:\\\\Users\\\\hsiao\\\\Miniconda3\\\\Scripts;C:\\\\Program Files\\\\Dell\\\\DW WLAN Card;;C:\\\\Program Files (x86)\\\\Intel\\\\iCLS Client\\\\;C:\\\\Program Files\\\\Intel\\\\iCLS Client\\\\;C:\\\\WINDOWS\\\\system32;C:\\\\WINDOWS;C:\\\\WINDOWS\\\\System32\\\\Wbem;C:\\\\WINDOWS\\\\System32\\\\WindowsPowerShell\\\\v1.0\\\\;C:\\\\Program Files (x86)\\\\Intel\\\\Intel(R) Management Engine Components\\\\DAL;C:\\\\Program Files\\\\Intel\\\\Intel(R) Management Engine Components\\\\DAL;C:\\\\Program Files (x86)\\\\Intel\\\\Intel(R) Management Engine Components\\\\IPT;C:\\\\Program Files\\\\Intel\\\\Intel(R) Management Engine Components\\\\IPT;c:\\\\Program Files\\\\WIDCOMM\\\\Bluetooth Software\\\\;c:\\\\Program Files\\\\WIDCOMM\\\\Bluetooth Software\\\\syswow64;C:\\\\Program Files (x86)\\\\Skype\\\\Phone\\\\;C:\\\\Users\\\\hsiao\\\\Miniconda3;C:\\\\Users\\\\hsiao\\\\Miniconda3\\\\Scripts;C:\\\\Users\\\\hsiao\\\\Miniconda3\\\\Library\\\\bin;C:\\\\Users\\\\hsiao\\\\AppData\\\\Local\\\\Microsoft\\\\WindowsApps;</br>\\r\\n<b>PATHEXT</b>: .COM;.EXE;.BAT;.CMD;.VBS;.VBE;.JS;.JSE;.WSF;.WSH;.MSC</br>\\r\\n<b>PROCESSOR_ARCHITECTURE</b>: AMD64</br>\\r\\n<b>PROCESSOR_IDENTIFIER</b>: Intel64 Family 6 Model 78 Stepping 3, GenuineIntel</br>\\r\\n<b>PROCESSOR_LEVEL</b>: 6</br>\\r\\n<b>PROCESSOR_REVISION</b>: 4e03</br>\\r\\n<b>PROGRAMDATA</b>: C:\\\\ProgramData</br>\\r\\n<b>PROGRAMFILES</b>: C:\\\\Program Files</br>\\r\\n<b>PROGRAMFILES(X86)</b>: C:\\\\Program Files (x86)</br>\\r\\n<b>PROGRAMW6432</b>: C:\\\\Program Files</br>\\r\\n<b>PROMPT</b>: (C:\\\\Users\\\\hsiao\\\\Miniconda3) $P$G</br>\\r\\n<b>PSMODULEPATH</b>: C:\\\\Program Files\\\\WindowsPowerShell\\\\Modules;C:\\\\WINDOWS\\\\system32\\\\WindowsPowerShell\\\\v1.0\\\\Modules</br>\\r\\n<b>PUBLIC</b>: C:\\\\Users\\\\Public</br>\\r\\n<b>SESSIONNAME</b>: Console</br>\\r\\n<b>SYSTEMDRIVE</b>: C:</br>\\r\\n<b>SYSTEMROOT</b>: C:\\\\WINDOWS</br>\\r\\n<b>TEMP</b>: C:\\\\Users\\\\hsiao\\\\AppData\\\\Local\\\\Temp</br>\\r\\n<b>TMP</b>: C:\\\\Users\\\\hsiao\\\\AppData\\\\Local\\\\Temp</br>\\r\\n<b>USERDOMAIN</b>: DESKTOP-7M5J7JB</br>\\r\\n<b>USERDOMAIN_ROAMINGPROFILE</b>: DESKTOP-7M5J7JB</br>\\r\\n<b>USERNAME</b>: hsiao</br>\\r\\n<b>USERPROFILE</b>: C:\\\\Users\\\\hsiao</br>\\r\\n<b>WINDIR</b>: C:\\\\WINDOWS</br>\\r\\n<b>SERVER_SOFTWARE</b>: SimpleHTTP/0.6 Python/3.6.0</br>\\r\\n<b>SERVER_NAME</b>: DESKTOP-7M5J7JB</br>\\r\\n<b>GATEWAY_INTERFACE</b>: CGI/1.1</br>\\r\\n<b>SERVER_PROTOCOL</b>: HTTP/1.0</br>\\r\\n<b>SERVER_PORT</b>: 8000</br>\\r\\n<b>REQUEST_METHOD</b>: GET</br>\\r\\n<b>PATH_INFO</b>: </br>\\r\\n<b>PATH_TRANSLATED</b>: C:\\\\Users\\\\hsiao\\\\Dropbox\\\\notebook\\\\tutorial</br>\\r\\n<b>SCRIPT_NAME</b>: /cgi-bin/mycgi.py</br>\\r\\n<b>REMOTE_ADDR</b>: 127.0.0.1</br>\\r\\n<b>CONTENT_TYPE</b>: text/plain</br>\\r\\n<b>HTTP_ACCEPT</b>: </br>\\r\\n<b>QUERY_STRING</b>: </br>\\r\\n<b>REMOTE_HOST</b>: </br>\\r\\n<b>CONTENT_LENGTH</b>: </br>\\r\\n<b>HTTP_USER_AGENT</b>: </br>\\r\\n<b>HTTP_COOKIE</b>: </br>\\r\\n<b>HTTP_REFERER</b>: </br>\\r\\n'\n"
     ]
    }
   ],
   "source": [
    "print(response)"
   ]
  },
  {
   "cell_type": "markdown",
   "metadata": {},
   "source": [
    "### JSON\n",
    "JSON (JavaScript Object Notation), specified by RFC 7159 (which obsoletes RFC 4627) and by ECMA-404, is a lightweight data interchange format inspired by JavaScript object literal syntax."
   ]
  },
  {
   "cell_type": "code",
   "execution_count": 6,
   "metadata": {
    "collapsed": false
   },
   "outputs": [],
   "source": [
    "st = str(\"This is a string.\")\n",
    "li = list([1, 2., \"st\", (3, 4)])\n",
    "di = {\"one\": 1, \"two\": 2, \"three\": 3}\n",
    "tp = (6, 7, 8)"
   ]
  },
  {
   "cell_type": "code",
   "execution_count": 7,
   "metadata": {
    "collapsed": false
   },
   "outputs": [
    {
     "name": "stdout",
     "output_type": "stream",
     "text": [
      "\"This is a string.\"\n",
      "[1, 2.0, \"st\", [3, 4]]\n",
      "{\"one\": 1, \"two\": 2, \"three\": 3}\n",
      "[6, 7, 8]\n"
     ]
    }
   ],
   "source": [
    "import json\n",
    "\n",
    "print(json.dumps(st))\n",
    "print(json.dumps(li))\n",
    "print(json.dumps(di))\n",
    "print(json.dumps(tp))"
   ]
  },
  {
   "cell_type": "code",
   "execution_count": 8,
   "metadata": {
    "collapsed": false
   },
   "outputs": [
    {
     "name": "stdout",
     "output_type": "stream",
     "text": [
      "This is a string. [1, 2.0, 'st', [3, 4]] {'one': 1, 'two': 2, 'three': 3} [6, 7, 8]\n"
     ]
    }
   ],
   "source": [
    "data  = (st, li, di, tp)\n",
    "\n",
    "# Writing JSON data\n",
    "with open('data.json', 'w') as f:\n",
    "    json.dump(data, f)\n",
    "\n",
    "# Reading data back\n",
    "with open('data.json', 'r') as f:\n",
    "    a, b, c, d = json.load(f)\n",
    "\n",
    "print(a, b, c, d)"
   ]
  },
  {
   "cell_type": "markdown",
   "metadata": {},
   "source": [
    "### Base64"
   ]
  },
  {
   "cell_type": "code",
   "execution_count": 1,
   "metadata": {
    "collapsed": false
   },
   "outputs": [
    {
     "name": "stdout",
     "output_type": "stream",
     "text": [
      "b'ZGF0YSB0byBiZSBlbmNvZGVk'\n",
      "b'data to be encoded'\n"
     ]
    }
   ],
   "source": [
    "import base64\n",
    "encoded = base64.b64encode(b'data to be encoded')\n",
    "data = base64.b64decode(encoded)\n",
    "print(encoded)\n",
    "print(data)"
   ]
  },
  {
   "cell_type": "markdown",
   "metadata": {},
   "source": [
    "### URL quote"
   ]
  },
  {
   "cell_type": "code",
   "execution_count": 10,
   "metadata": {
    "collapsed": false
   },
   "outputs": [
    {
     "name": "stdout",
     "output_type": "stream",
     "text": [
      "a%26b%2Fc%3D%2B-%2A%2F+abc%3A.\n",
      "a&b/c=+-*/ abc:.\n"
     ]
    }
   ],
   "source": [
    "import urllib.parse\n",
    "q = urllib.parse.quote_plus('a&b/c=+-*/ abc:.')\n",
    "print(q)\n",
    "print(urllib.parse.unquote_plus(q))"
   ]
  },
  {
   "cell_type": "markdown",
   "metadata": {},
   "source": [
    "### URLencode"
   ]
  },
  {
   "cell_type": "code",
   "execution_count": 11,
   "metadata": {
    "collapsed": false
   },
   "outputs": [
    {
     "name": "stdout",
     "output_type": "stream",
     "text": [
      "name1=value1&name2=value2\n",
      "GET /index.html?name1=value1&name2=value2\n"
     ]
    }
   ],
   "source": [
    "import urllib.parse\n",
    "\n",
    "parms = {\n",
    "    'name1' : 'value1',\n",
    "    'name2' : 'value2'\n",
    "}\n",
    "\n",
    "en = urllib.parse.urlencode(parms)\n",
    "print(en)\n",
    "\n",
    "print(\"GET /index.html?{}\".format(en))"
   ]
  },
  {
   "cell_type": "markdown",
   "metadata": {},
   "source": [
    "### URL parse"
   ]
  },
  {
   "cell_type": "code",
   "execution_count": 12,
   "metadata": {
    "collapsed": false
   },
   "outputs": [
    {
     "name": "stdout",
     "output_type": "stream",
     "text": [
      "ParseResult(scheme='https', netloc='docs.python.org', path='/3.5/search.html', params='', query='q=parse&check_keywords=yes&area=default', fragment='')\n",
      "{'q': ['parse'], 'check_keywords': ['yes'], 'area': ['default']}\n",
      "['parse']\n"
     ]
    }
   ],
   "source": [
    "import urllib.parse\n",
    "\n",
    "url = r'https://docs.python.org/3.5/search.html?q=parse&check_keywords=yes&area=default'\n",
    "parseResult = urllib.parse.urlparse(url)\n",
    "print(parseResult)\n",
    "\n",
    "param_dict = urllib.parse.parse_qs(parseResult.query)\n",
    "print(param_dict)\n",
    "print(param_dict['q']) # the return is a list. How to get plaintext 'parse'?"
   ]
  },
  {
   "cell_type": "markdown",
   "metadata": {},
   "source": [
    "### urllib\n",
    "In Python 2, use \"urllib2\""
   ]
  },
  {
   "cell_type": "code",
   "execution_count": 13,
   "metadata": {
    "collapsed": false
   },
   "outputs": [
    {
     "name": "stdout",
     "output_type": "stream",
     "text": [
      "b'hello'\n"
     ]
    }
   ],
   "source": [
    "import urllib.request\n",
    "html = urllib.request.urlopen(\"http://127.0.0.1:8000/index.html\").read(300)\n",
    "print(html)"
   ]
  },
  {
   "cell_type": "markdown",
   "metadata": {},
   "source": [
    "### GET with urllib"
   ]
  },
  {
   "cell_type": "code",
   "execution_count": 14,
   "metadata": {
    "collapsed": false
   },
   "outputs": [
    {
     "name": "stdout",
     "output_type": "stream",
     "text": [
      "<h3>Input</h3>\r\n",
      "<b>name1</b>: value1</br>\r\n",
      "<b>name2</b>: value2</br>\r\n",
      "<h3>Environment</h3>\r\n",
      "<b>ALLUSERSPROFILE</b>: C:\\ProgramData</br>\r\n",
      "<b>APPDATA</b>: C:\\Users\\hsiao\\AppData\\Roaming</br>\r\n",
      "<b>COMMONPROGRAMFILES</b>: C:\\Program Files\\Common Files</br>\r\n",
      "<b>COMMONPROGRAMFILES(X86)</b>: C:\\Program Files (x86)\\Common Files</br>\r\n",
      "<b>COMMONPROGRAMW6432</b>: C:\\Program Files\\Common Files</br>\r\n",
      "<b>COMPUTERNAME</b>: DESKTOP-7M5J7JB</br>\r\n",
      "<b>COMSPEC</b>: C:\\WINDOWS\\system32\\cmd.exe</br>\r\n",
      "<b>CONDA_DEFAULT_ENV</b>: C:\\Users\\hsiao\\Miniconda3</br>\r\n",
      "<b>CONDA_PREFIX</b>: C:\\Users\\hsiao\\Miniconda3</br>\r\n",
      "<b>CONDA_PS1_BACKUP</b>: $P$G</br>\r\n",
      "<b>HOMEDRIVE</b>: C:</br>\r\n",
      "<b>HOMEPATH</b>: \\Users\\hsiao</br>\r\n",
      "<b>LOCALAPPDATA</b>: C:\\Users\\hsiao\\AppData\\Local</br>\r\n",
      "<b>LOGONSERVER</b>: \\\\DESKTOP-7M5J7JB</br>\r\n",
      "<b>NUMBER_OF_PROCESSORS</b>: 4</br>\r\n",
      "<b>ONEDRIVE</b>: C:\\Users\\hsiao\\OneDrive</br>\r\n",
      "<b>OS</b>: Windows_NT</br>\r\n",
      "<b>PATH</b>: C:\\Users\\hsiao\\Miniconda3\\Library\\bin;C:\\Users\\hsiao\\Miniconda3\\Library\\bin;C:\\Users\\hsiao\\Miniconda3;C:\\Users\\hsiao\\Miniconda3\\Library\\mingw-w64\\bin;C:\\Users\\hsiao\\Miniconda3\\Library\\usr\\bin;C:\\Users\\hsiao\\Miniconda3\\Library\\bin;C:\\Users\\hsiao\\Miniconda3\\Scripts;C:\\Program Files\\Dell\\DW WLAN Card;;C:\\Program Files (x86)\\Intel\\iCLS Client\\;C:\\Program Files\\Intel\\iCLS Client\\;C:\\WINDOWS\\system32;C:\\WINDOWS;C:\\WINDOWS\\System32\\Wbem;C:\\WINDOWS\\System32\\WindowsPowerShell\\v1.0\\;C:\\Program Files (x86)\\Intel\\Intel(R) Management Engine Components\\DAL;C:\\Program Files\\Intel\\Intel(R) Management Engine Components\\DAL;C:\\Program Files (x86)\\Intel\\Intel(R) Management Engine Components\\IPT;C:\\Program Files\\Intel\\Intel(R) Management Engine Components\\IPT;c:\\Program Files\\WIDCOMM\\Bluetooth Software\\;c:\\Program Files\\WIDCOMM\\Bluetooth Software\\syswow64;C:\\Program Files (x86)\\Skype\\Phone\\;C:\\Users\\hsiao\\Miniconda3;C:\\Users\\hsiao\\Miniconda3\\Scripts;C:\\Users\\hsiao\\Miniconda3\\Library\\bin;C:\\Users\\hsiao\\AppData\\Local\\Microsoft\\WindowsApps;</br>\r\n",
      "<b>PATHEXT</b>: .COM;.EXE;.BAT;.CMD;.VBS;.VBE;.JS;.JSE;.WSF;.WSH;.MSC</br>\r\n",
      "<b>PROCESSOR_ARCHITECTURE</b>: AMD64</br>\r\n",
      "<b>PROCESSOR_IDENTIFIER</b>: Intel64 Family 6 Model 78 Stepping 3, GenuineIntel</br>\r\n",
      "<b>PROCESSOR_LEVEL</b>: 6</br>\r\n",
      "<b>PROCESSOR_REVISION</b>: 4e03</br>\r\n",
      "<b>PROGRAMDATA</b>: C:\\ProgramData</br>\r\n",
      "<b>PROGRAMFILES</b>: C:\\Program Files</br>\r\n",
      "<b>PROGRAMFILES(X86)</b>: C:\\Program Files (x86)</br>\r\n",
      "<b>PROGRAMW6432</b>: C:\\Program Files</br>\r\n",
      "<b>PROMPT</b>: (C:\\Users\\hsiao\\Miniconda3) $P$G</br>\r\n",
      "<b>PSMODULEPATH</b>: C:\\Program Files\\WindowsPowerShell\\Modules;C:\\WINDOWS\\system32\\WindowsPowerShell\\v1.0\\Modules</br>\r\n",
      "<b>PUBLIC</b>: C:\\Users\\Public</br>\r\n",
      "<b>SESSIONNAME</b>: Console</br>\r\n",
      "<b>SYSTEMDRIVE</b>: C:</br>\r\n",
      "<b>SYSTEMROOT</b>: C:\\WINDOWS</br>\r\n",
      "<b>TEMP</b>: C:\\Users\\hsiao\\AppData\\Local\\Temp</br>\r\n",
      "<b>TMP</b>: C:\\Users\\hsiao\\AppData\\Local\\Temp</br>\r\n",
      "<b>USERDOMAIN</b>: DESKTOP-7M5J7JB</br>\r\n",
      "<b>USERDOMAIN_ROAMINGPROFILE</b>: DESKTOP-7M5J7JB</br>\r\n",
      "<b>USERNAME</b>: hsiao</br>\r\n",
      "<b>USERPROFILE</b>: C:\\Users\\hsiao</br>\r\n",
      "<b>WINDIR</b>: C:\\WINDOWS</br>\r\n",
      "<b>SERVER_SOFTWARE</b>: SimpleHTTP/0.6 Python/3.6.0</br>\r\n",
      "<b>SERVER_NAME</b>: DESKTOP-7M5J7JB</br>\r\n",
      "<b>GATEWAY_INTERFACE</b>: CGI/1.1</br>\r\n",
      "<b>SERVER_PROTOCOL</b>: HTTP/1.0</br>\r\n",
      "<b>SERVER_PORT</b>: 8000</br>\r\n",
      "<b>REQUEST_METHOD</b>: GET</br>\r\n",
      "<b>PATH_INFO</b>: </br>\r\n",
      "<b>PATH_TRANSLATED</b>: C:\\Users\\hsiao\\Dropbox\\notebook\\tutorial</br>\r\n",
      "<b>SCRIPT_NAME</b>: /cgi-bin/mycgi.py</br>\r\n",
      "<b>QUERY_STRING</b>: name1=value1&name2=value2</br>\r\n",
      "<b>REMOTE_ADDR</b>: 127.0.0.1</br>\r\n",
      "<b>CONTENT_TYPE</b>: text/plain</br>\r\n",
      "<b>HTTP_ACCEPT</b>: </br>\r\n",
      "<b>HTTP_USER_AGENT</b>: Python-urllib/3.6</br>\r\n",
      "<b>REMOTE_HOST</b>: </br>\r\n",
      "<b>CONTENT_LENGTH</b>: </br>\r\n",
      "<b>HTTP_COOKIE</b>: </br>\r\n",
      "<b>HTTP_REFERER</b>: </br>\r\n",
      "\n"
     ]
    }
   ],
   "source": [
    "import urllib.request\n",
    "\n",
    "parms = {\n",
    "    'name1' : 'value1',\n",
    "    'name2' : 'value2'\n",
    "}\n",
    "\n",
    "url = \"http://127.0.0.1:8000/cgi-bin/mycgi.py\"\n",
    "q = urllib.parse.urlencode(parms)\n",
    "\n",
    "html = urllib.request.urlopen(\"{}?{}\".format(url, q)).read(4096).decode('utf-8')\n",
    "print(html)"
   ]
  },
  {
   "cell_type": "markdown",
   "metadata": {},
   "source": [
    "### POST with urllib"
   ]
  },
  {
   "cell_type": "code",
   "execution_count": 15,
   "metadata": {
    "collapsed": false
   },
   "outputs": [
    {
     "name": "stdout",
     "output_type": "stream",
     "text": [
      "<h3>Input</h3>\r\n",
      "<b>data</b>: This data is passed to stdin of the CGI</br>\r\n",
      "<h3>Environment</h3>\r\n",
      "<b>ALLUSERSPROFILE</b>: C:\\ProgramData</br>\r\n",
      "<b>APPDATA</b>: C:\\Users\\hsiao\\AppData\\Roaming</br>\r\n",
      "<b>COMMONPROGRAMFILES</b>: C:\\Program Files\\Common Files</br>\r\n",
      "<b>COMMONPROGRAMFILES(X86)</b>: C:\\Program Files (x86)\\Common Files</br>\r\n",
      "<b>COMMONPROGRAMW6432</b>: C:\\Program Files\\Common Files</br>\r\n",
      "<b>COMPUTERNAME</b>: DESKTOP-7M5J7JB</br>\r\n",
      "<b>COMSPEC</b>: C:\\WINDOWS\\system32\\cmd.exe</br>\r\n",
      "<b>CONDA_DEFAULT_ENV</b>: C:\\Users\\hsiao\\Miniconda3</br>\r\n",
      "<b>CONDA_PREFIX</b>: C:\\Users\\hsiao\\Miniconda3</br>\r\n",
      "<b>CONDA_PS1_BACKUP</b>: $P$G</br>\r\n",
      "<b>HOMEDRIVE</b>: C:</br>\r\n",
      "<b>HOMEPATH</b>: \\Users\\hsiao</br>\r\n",
      "<b>LOCALAPPDATA</b>: C:\\Users\\hsiao\\AppData\\Local</br>\r\n",
      "<b>LOGONSERVER</b>: \\\\DESKTOP-7M5J7JB</br>\r\n",
      "<b>NUMBER_OF_PROCESSORS</b>: 4</br>\r\n",
      "<b>ONEDRIVE</b>: C:\\Users\\hsiao\\OneDrive</br>\r\n",
      "<b>OS</b>: Windows_NT</br>\r\n",
      "<b>PATH</b>: C:\\Users\\hsiao\\Miniconda3\\Library\\bin;C:\\Users\\hsiao\\Miniconda3\\Library\\bin;C:\\Users\\hsiao\\Miniconda3;C:\\Users\\hsiao\\Miniconda3\\Library\\mingw-w64\\bin;C:\\Users\\hsiao\\Miniconda3\\Library\\usr\\bin;C:\\Users\\hsiao\\Miniconda3\\Library\\bin;C:\\Users\\hsiao\\Miniconda3\\Scripts;C:\\Program Files\\Dell\\DW WLAN Card;;C:\\Program Files (x86)\\Intel\\iCLS Client\\;C:\\Program Files\\Intel\\iCLS Client\\;C:\\WINDOWS\\system32;C:\\WINDOWS;C:\\WINDOWS\\System32\\Wbem;C:\\WINDOWS\\System32\\WindowsPowerShell\\v1.0\\;C:\\Program Files (x86)\\Intel\\Intel(R) Management Engine Components\\DAL;C:\\Program Files\\Intel\\Intel(R) Management Engine Components\\DAL;C:\\Program Files (x86)\\Intel\\Intel(R) Management Engine Components\\IPT;C:\\Program Files\\Intel\\Intel(R) Management Engine Components\\IPT;c:\\Program Files\\WIDCOMM\\Bluetooth Software\\;c:\\Program Files\\WIDCOMM\\Bluetooth Software\\syswow64;C:\\Program Files (x86)\\Skype\\Phone\\;C:\\Users\\hsiao\\Miniconda3;C:\\Users\\hsiao\\Miniconda3\\Scripts;C:\\Users\\hsiao\\Miniconda3\\Library\\bin;C:\\Users\\hsiao\\AppData\\Local\\Microsoft\\WindowsApps;</br>\r\n",
      "<b>PATHEXT</b>: .COM;.EXE;.BAT;.CMD;.VBS;.VBE;.JS;.JSE;.WSF;.WSH;.MSC</br>\r\n",
      "<b>PROCESSOR_ARCHITECTURE</b>: AMD64</br>\r\n",
      "<b>PROCESSOR_IDENTIFIER</b>: Intel64 Family 6 Model 78 Stepping 3, GenuineIntel</br>\r\n",
      "<b>PROCESSOR_LEVEL</b>: 6</br>\r\n",
      "<b>PROCESSOR_REVISION</b>: 4e03</br>\r\n",
      "<b>PROGRAMDATA</b>: C:\\ProgramData</br>\r\n",
      "<b>PROGRAMFILES</b>: C:\\Program Files</br>\r\n",
      "<b>PROGRAMFILES(X86)</b>: C:\\Program Files (x86)</br>\r\n",
      "<b>PROGRAMW6432</b>: C:\\Program Files</br>\r\n",
      "<b>PROMPT</b>: (C:\\Users\\hsiao\\Miniconda3) $P$G</br>\r\n",
      "<b>PSMODULEPATH</b>: C:\\Program Files\\WindowsPowerShell\\Modules;C:\\WINDOWS\\system32\\WindowsPowerShell\\v1.0\\Modules</br>\r\n",
      "<b>PUBLIC</b>: C:\\Users\\Public</br>\r\n",
      "<b>SESSIONNAME</b>: Console</br>\r\n",
      "<b>SYSTEMDRIVE</b>: C:</br>\r\n",
      "<b>SYSTEMROOT</b>: C:\\WINDOWS</br>\r\n",
      "<b>TEMP</b>: C:\\Users\\hsiao\\AppData\\Local\\Temp</br>\r\n",
      "<b>TMP</b>: C:\\Users\\hsiao\\AppData\\Local\\Temp</br>\r\n",
      "<b>USERDOMAIN</b>: DESKTOP-7M5J7JB</br>\r\n",
      "<b>USERDOMAIN_ROAMINGPROFILE</b>: DESKTOP-7M5J7JB</br>\r\n",
      "<b>USERNAME</b>: hsiao</br>\r\n",
      "<b>USERPROFILE</b>: C:\\Users\\hsiao</br>\r\n",
      "<b>WINDIR</b>: C:\\WINDOWS</br>\r\n",
      "<b>SERVER_SOFTWARE</b>: SimpleHTTP/0.6 Python/3.6.0</br>\r\n",
      "<b>SERVER_NAME</b>: DESKTOP-7M5J7JB</br>\r\n",
      "<b>GATEWAY_INTERFACE</b>: CGI/1.1</br>\r\n",
      "<b>SERVER_PROTOCOL</b>: HTTP/1.0</br>\r\n",
      "<b>SERVER_PORT</b>: 8000</br>\r\n",
      "<b>REQUEST_METHOD</b>: POST</br>\r\n",
      "<b>PATH_INFO</b>: </br>\r\n",
      "<b>PATH_TRANSLATED</b>: C:\\Users\\hsiao\\Dropbox\\notebook\\tutorial</br>\r\n",
      "<b>SCRIPT_NAME</b>: /cgi-bin/mycgi.py</br>\r\n",
      "<b>REMOTE_ADDR</b>: 127.0.0.1</br>\r\n",
      "<b>CONTENT_TYPE</b>: application/x-www-form-urlencoded</br>\r\n",
      "<b>CONTENT_LENGTH</b>: 44</br>\r\n",
      "<b>HTTP_ACCEPT</b>: </br>\r\n",
      "<b>HTTP_USER_AGENT</b>: Python-urllib/3.6</br>\r\n",
      "<b>QUERY_STRING</b>: </br>\r\n",
      "<b>REMOTE_HOST</b>: </br>\r\n",
      "<b>HTTP_COOKIE</b>: </br>\r\n",
      "<b>HTTP_REFERER</b>: </br>\r\n",
      "\n"
     ]
    }
   ],
   "source": [
    "import urllib.request\n",
    "req = urllib.request.Request(url = 'http://127.0.0.1:8000/cgi-bin/mycgi.py',\n",
    "                             data = b'data=This data is passed to stdin of the CGI',\n",
    "                             method = 'POST')\n",
    "\n",
    "with urllib.request.urlopen(req) as f:\n",
    "    data = b''\n",
    "    buf = f.read(300)\n",
    "    data += buf\n",
    "    while buf:\n",
    "        buf = f.read(300)\n",
    "        data += buf\n",
    "    print(data.decode('utf-8'))"
   ]
  },
  {
   "cell_type": "code",
   "execution_count": 16,
   "metadata": {
    "collapsed": false
   },
   "outputs": [
    {
     "name": "stdout",
     "output_type": "stream",
     "text": [
      "<h3>Input</h3>\r\n",
      "<b>data</b>: This data is passed to stdin of the CGI</br>\r\n",
      "<h3>Environment</h3>\r\n",
      "<b>ALLUSERSPROFILE</b>: C:\\ProgramData</br>\r\n",
      "<b>APPDATA</b>: C:\\Users\\hsiao\\AppData\\Roaming</br>\r\n",
      "<b>COMMONPROGRAMFILES</b>: C:\\Program Files\\Common Files</br>\r\n",
      "<b>COMMONPROGRAMFILES(X86)</b>: C:\\Program Files (x86)\\Common Files</br>\r\n",
      "<b>COMMONPROGRAMW6432</b>: C:\\Program Files\\Common Files</br>\r\n",
      "<b>COMPUTERNAME</b>: DESKTOP-7M5J7JB</br>\r\n",
      "<b>COMSPEC</b>: C:\\WINDOWS\\system32\\cmd.exe</br>\r\n",
      "<b>CONDA_DEFAULT_ENV</b>: C:\\Users\\hsiao\\Miniconda3</br>\r\n",
      "<b>CONDA_PREFIX</b>: C:\\Users\\hsiao\\Miniconda3</br>\r\n",
      "<b>CONDA_PS1_BACKUP</b>: $P$G</br>\r\n",
      "<b>HOMEDRIVE</b>: C:</br>\r\n",
      "<b>HOMEPATH</b>: \\Users\\hsiao</br>\r\n",
      "<b>LOCALAPPDATA</b>: C:\\Users\\hsiao\\AppData\\Local</br>\r\n",
      "<b>LOGONSERVER</b>: \\\\DESKTOP-7M5J7JB</br>\r\n",
      "<b>NUMBER_OF_PROCESSORS</b>: 4</br>\r\n",
      "<b>ONEDRIVE</b>: C:\\Users\\hsiao\\OneDrive</br>\r\n",
      "<b>OS</b>: Windows_NT</br>\r\n",
      "<b>PATH</b>: C:\\Users\\hsiao\\Miniconda3\\Library\\bin;C:\\Users\\hsiao\\Miniconda3\\Library\\bin;C:\\Users\\hsiao\\Miniconda3;C:\\Users\\hsiao\\Miniconda3\\Library\\mingw-w64\\bin;C:\\Users\\hsiao\\Miniconda3\\Library\\usr\\bin;C:\\Users\\hsiao\\Miniconda3\\Library\\bin;C:\\Users\\hsiao\\Miniconda3\\Scripts;C:\\Program Files\\Dell\\DW WLAN Card;;C:\\Program Files (x86)\\Intel\\iCLS Client\\;C:\\Program Files\\Intel\\iCLS Client\\;C:\\WINDOWS\\system32;C:\\WINDOWS;C:\\WINDOWS\\System32\\Wbem;C:\\WINDOWS\\System32\\WindowsPowerShell\\v1.0\\;C:\\Program Files (x86)\\Intel\\Intel(R) Management Engine Components\\DAL;C:\\Program Files\\Intel\\Intel(R) Management Engine Components\\DAL;C:\\Program Files (x86)\\Intel\\Intel(R) Management Engine Components\\IPT;C:\\Program Files\\Intel\\Intel(R) Management Engine Components\\IPT;c:\\Program Files\\WIDCOMM\\Bluetooth Software\\;c:\\Program Files\\WIDCOMM\\Bluetooth Software\\syswow64;C:\\Program Files (x86)\\Skype\\Phone\\;C:\\Users\\hsiao\\Miniconda3;C:\\Users\\hsiao\\Miniconda3\\Scripts;C:\\Users\\hsiao\\Miniconda3\\Library\\bin;C:\\Users\\hsiao\\AppData\\Local\\Microsoft\\WindowsApps;</br>\r\n",
      "<b>PATHEXT</b>: .COM;.EXE;.BAT;.CMD;.VBS;.VBE;.JS;.JSE;.WSF;.WSH;.MSC</br>\r\n",
      "<b>PROCESSOR_ARCHITECTURE</b>: AMD64</br>\r\n",
      "<b>PROCESSOR_IDENTIFIER</b>: Intel64 Family 6 Model 78 Stepping 3, GenuineIntel</br>\r\n",
      "<b>PROCESSOR_LEVEL</b>: 6</br>\r\n",
      "<b>PROCESSOR_REVISION</b>: 4e03</br>\r\n",
      "<b>PROGRAMDATA</b>: C:\\ProgramData</br>\r\n",
      "<b>PROGRAMFILES</b>: C:\\Program Files</br>\r\n",
      "<b>PROGRAMFILES(X86)</b>: C:\\Program Files (x86)</br>\r\n",
      "<b>PROGRAMW6432</b>: C:\\Program Files</br>\r\n",
      "<b>PROMPT</b>: (C:\\Users\\hsiao\\Miniconda3) $P$G</br>\r\n",
      "<b>PSMODULEPATH</b>: C:\\Program Files\\WindowsPowerShell\\Modules;C:\\WINDOWS\\system32\\WindowsPowerShell\\v1.0\\Modules</br>\r\n",
      "<b>PUBLIC</b>: C:\\Users\\Public</br>\r\n",
      "<b>SESSIONNAME</b>: Console</br>\r\n",
      "<b>SYSTEMDRIVE</b>: C:</br>\r\n",
      "<b>SYSTEMROOT</b>: C:\\WINDOWS</br>\r\n",
      "<b>TEMP</b>: C:\\Users\\hsiao\\AppData\\Local\\Temp</br>\r\n",
      "<b>TMP</b>: C:\\Users\\hsiao\\AppData\\Local\\Temp</br>\r\n",
      "<b>USERDOMAIN</b>: DESKTOP-7M5J7JB</br>\r\n",
      "<b>USERDOMAIN_ROAMINGPROFILE</b>: DESKTOP-7M5J7JB</br>\r\n",
      "<b>USERNAME</b>: hsiao</br>\r\n",
      "<b>USERPROFILE</b>: C:\\Users\\hsiao</br>\r\n",
      "<b>WINDIR</b>: C:\\WINDOWS</br>\r\n",
      "<b>SERVER_SOFTWARE</b>: SimpleHTTP/0.6 Python/3.6.0</br>\r\n",
      "<b>SERVER_NAME</b>: DESKTOP-7M5J7JB</br>\r\n",
      "<b>GATEWAY_INTERFACE</b>: CGI/1.1</br>\r\n",
      "<b>SERVER_PROTOCOL</b>: HTTP/1.0</br>\r\n",
      "<b>SERVER_PORT</b>: 8000</br>\r\n",
      "<b>REQUEST_METHOD</b>: POST</br>\r\n",
      "<b>PATH_INFO</b>: </br>\r\n",
      "<b>PATH_TRANSLATED</b>: C:\\Users\\hsiao\\Dropbox\\notebook\\tutorial</br>\r\n",
      "<b>SCRIPT_NAME</b>: /cgi-bin/mycgi.py</br>\r\n",
      "<b>REMOTE_ADDR</b>: 127.0.0.1</br>\r\n",
      "<b>CONTENT_TYPE</b>: application/x-www-form-urlencoded</br>\r\n",
      "<b>CONTENT_LENGTH</b>: 44</br>\r\n",
      "<b>HTTP_ACCEPT</b>: </br>\r\n",
      "<b>HTTP_USER_AGENT</b>: none/ofyourbusiness</br>\r\n",
      "<b>QUERY_STRING</b>: </br>\r\n",
      "<b>REMOTE_HOST</b>: </br>\r\n",
      "<b>HTTP_COOKIE</b>: </br>\r\n",
      "<b>HTTP_REFERER</b>: </br>\r\n",
      "\n"
     ]
    }
   ],
   "source": [
    "# if you need customized HTTP headers\n",
    "import urllib.request\n",
    "\n",
    "# Extra headers\n",
    "'''\n",
    "If you are running as a CGI, you can't read the HTTP header directly,\n",
    "but the web server put much of that information into environment variables.\n",
    "'''\n",
    "headers = {\n",
    "    'User-agent' : 'none/ofyourbusiness', # readable header\n",
    "    'Spam' : 'Eggs' # custmized header is not reaable for cgi \n",
    "}\n",
    "\n",
    "req = urllib.request.Request(url = 'http://127.0.0.1:8000/cgi-bin/mycgi.py',\n",
    "                             data = b'data=This data is passed to stdin of the CGI',\n",
    "                             headers = headers,\n",
    "                             method = 'POST')\n",
    "\n",
    "with urllib.request.urlopen(req) as f:\n",
    "    data = b''\n",
    "    buf = f.read(300)\n",
    "    data += buf\n",
    "    while buf:\n",
    "        buf = f.read(300)\n",
    "        data += buf\n",
    "    print(data.decode('utf-8'))"
   ]
  },
  {
   "cell_type": "markdown",
   "metadata": {},
   "source": [
    "### requests\n",
    "http://docs.python-requests.org"
   ]
  },
  {
   "cell_type": "code",
   "execution_count": 4,
   "metadata": {
    "collapsed": false
   },
   "outputs": [
    {
     "name": "stdout",
     "output_type": "stream",
     "text": [
      "<!DOCTYPE HTML PUBLIC \"-//W3C//DTD HTML 4.01//EN\"\n",
      "        \"http://www.w3.org/TR/html4/strict.dtd\">\n",
      "<html>\n",
      "    <head>\n",
      "        <meta http-equiv=\"Content-Type\" content=\"text/html;charset=utf-8\">\n",
      "        <title>Error response</title>\n",
      "    </head>\n",
      "    <body>\n",
      "        <h1>Error response</h1>\n",
      "        <p>Error code: 501</p>\n",
      "        <p>Message: Unsupported method ('POST').</p>\n",
      "        <p>Error code explanation: HTTPStatus.NOT_IMPLEMENTED - Server does not support this operation.</p>\n",
      "    </body>\n",
      "</html>\n",
      "\n"
     ]
    }
   ],
   "source": [
    "import requests\n",
    "\n",
    "url = 'http://127.0.0.1:8000/cgi-bin/mycgi.py'\n",
    "parms = {\n",
    "   'name1' : 'value1',\n",
    "   'name2' : 'value2'\n",
    "}\n",
    "headers = {\n",
    "    'User-agent' : 'none/ofyourbusiness',\n",
    "    'Spam' : 'Eggs'\n",
    "}\n",
    "\n",
    "resp = requests.post(url, data=parms, headers=headers)\n",
    "text = resp.text # no need to perform multiple read(), and text is utf-8\n",
    "content = resp.content # binary data\n",
    "\n",
    "print(text)"
   ]
  },
  {
   "cell_type": "code",
   "execution_count": 2,
   "metadata": {
    "collapsed": false
   },
   "outputs": [
    {
     "name": "stdout",
     "output_type": "stream",
     "text": [
      "200 OK\n",
      "{'Date': 'Wed, 22 Mar 2017 03:31:36 GMT', 'Expires': '-1', 'Cache-Control': 'private, max-age=0', 'Content-Type': 'text/html; charset=Big5', 'P3P': 'CP=\"This is not a P3P policy! See https://www.google.com/support/accounts/answer/151657?hl=en for more info.\"', 'Content-Encoding': 'gzip', 'Server': 'gws', 'Content-Length': '4437', 'X-XSS-Protection': '1; mode=block', 'X-Frame-Options': 'SAMEORIGIN', 'Set-Cookie': 'NID=99=gqfL8LvS5PAzTKgbR7GX19Ir7uXmhz6UvF5O3XIFT9JwxZ6E3bnw6rMItiNrjW20a9bg7S406hV704xMjQ0Hdw5ZJ2vEykFrPZvk9HJPll29j5xWNBpbcitemYZOExeI; expires=Thu, 21-Sep-2017 03:31:36 GMT; path=/; domain=.google.com.tw; HttpOnly'}\n",
      "\n",
      "<RequestsCookieJar[<Cookie NID=99=gqfL8LvS5PAzTKgbR7GX19Ir7uXmhz6UvF5O3XIFT9JwxZ6E3bnw6rMItiNrjW20a9bg7S406hV704xMjQ0Hdw5ZJ2vEykFrPZvk9HJPll29j5xWNBpbcitemYZOExeI for .google.com.tw/>]>\n"
     ]
    }
   ],
   "source": [
    "# Try public http server\n",
    "import requests\n",
    "\n",
    "resp = requests.head('http://www.google.com.tw/') # www.python.org\n",
    "content_length = resp.headers['content-length']\n",
    "\n",
    "print(resp.status_code, resp.reason)\n",
    "print(resp.headers)\n",
    "print()\n",
    "print(resp.cookies) # cookies can be re-sent to next requests.get(), post(), ..."
   ]
  },
  {
   "cell_type": "markdown",
   "metadata": {},
   "source": [
    "### http.client\n",
    "if you need low level control ..."
   ]
  },
  {
   "cell_type": "markdown",
   "metadata": {},
   "source": [
    "### SSL, HTTPS"
   ]
  },
  {
   "cell_type": "code",
   "execution_count": 19,
   "metadata": {
    "collapsed": false
   },
   "outputs": [
    {
     "name": "stdout",
     "output_type": "stream",
     "text": [
      "200 OK\n"
     ]
    }
   ],
   "source": [
    "import http.client\n",
    "conn = http.client.HTTPSConnection(\"www.python.org\")\n",
    "conn.request(\"GET\", \"/\")\n",
    "r1 = conn.getresponse()\n",
    "print(r1.status, r1.reason)\n",
    "\n",
    "data1 = r1.read() # This will return entire content.\n",
    "conn.close()"
   ]
  },
  {
   "cell_type": "code",
   "execution_count": 20,
   "metadata": {
    "collapsed": false
   },
   "outputs": [
    {
     "name": "stdout",
     "output_type": "stream",
     "text": [
      "b'<!doctype html><html itemscope=\"\" itemtype=\"http://schema.org/WebPage\" lang=\"zh-TW\"><head><meta cont'\n",
      "b'ent=\"text/html; charset=UTF-8\" http-equiv=\"Content-Type\"><meta content=\"/logos/doodles/2017/holi-fes'\n",
      "b'tival-2017-5750729821126656-hp.gif\" itemprop=\"image\"><meta content=\"2017 \\xa6L\\xab\\xd7\\xc5x\\xac\\xf5\\xb8` #GoogleDoodle\" p'\n",
      "b'roperty=\"og:description\"><meta content=\"http://www.google.com/logos/doodles/2017/holi-festival-2017-'\n",
      "b'5750729821126656-thp.png\" property=\"og:image\"><meta content=\"420\" property=\"og:image:width\"><meta co'\n",
      "b'ntent=\"150\" property=\"og:image:height\"><meta content=\"http://www.google.com/logos/doodles/2017/holi-'\n",
      "b'festival-2017-5750729821126656-hp2x.gif\" property=\"og:url\"><meta content=\"video.other\" property=\"og:'\n",
      "b'type\"><title>Google</title><script>(function(){window.google={kEI:\\'5kzGWLboOsLh0gSGvqG4Cw\\',kEXPI:\\'13'\n",
      "b'52467,1352863,1352993,1353047,3700315,3700347,4029815,4031109,4032677,4036527,4038012,4039268,404349'\n",
      "b'2,4045841,4048347,4065786,4066195,4071783,4071842,4072364,4072775,4073405,4076095,4076999,4078430,40'\n",
      "b'79894,4081038,4081164,4083030,4084030,4085685,4086696,4090462,4090550,4090806,4090894,4092475,409247'\n",
      "b'9,4092628,4092897,4092934,4093134,4093313,4093948,4094251,4094544,4094767,4094878,4095381,4095788,40'\n",
      "b'95999,4096052,4096323,4096392,4096752,4096756,4096757,4096827,4097153,4097203,4097467,4097517,409792'\n",
      "b'2,4097929,4098721,4098728,4098752,4099310,4099381,4100379,4100671,4100860,4101224,4101230,4101300,41'\n",
      "b'01375,4101651,4101681,4102020,4102098,4102099,4102194,4102658,4102681,8503585,8505259,8506340,850738'\n",
      "b'0,8507420,8507940,8508229,8508607,8508931,8509037,8509373,8509871,8510787,10200084,10202231,19001698'\n",
      "b\",19001893,19001897,19001901,41027342',authuser:0,kscs:'c9c918f0_24'};google.kHL='zh-TW';})();(functi\"\n",
      "b'on(){google.lc=[];google.li=0;google.getEI=function(a){for(var b;a&&(!a.getAttribute||!(b=a.getAttri'\n",
      "b'bute(\"eid\")));)a=a.parentNode;return b||google.kEI};google.getLEI=function(a){for(var b=null;a&&(!a.'\n",
      "b'getAttribute||!(b=a.getAttribute(\"leid\")));)a=a.parentNode;return b};google.https=function(){return\"'\n",
      "b'https:\"==window.location.protocol};google.ml=function(){return null};google.wl=function(a,b){try{goo'\n",
      "b'gle.ml(Error(a),!1,b)}catch(c){}};google.time=function(){return(new Date).getTime()};google.log=func'\n",
      "b'tion(a,b,c,d,g){a=google.logUrl(a,b,c,d,g);if(\"\"!=a){b=new Image;var e=google.lc,f=google.li;e[f]=b;'\n",
      "b'b.onerror=b.onload=b.onabort=function(){delete e[f]};window.google&&window.google.vel&&window.google'\n",
      "b'.vel.lu&&window.google.vel.lu(a);b.src=a;google.li=f+1}};google.logUrl=function(a,b,c,d,g){var e=\"\",'\n",
      "b'f=google.ls||\"\";c||-1!=b.search(\"&ei=\")||(e=\"&ei=\"+google.getEI(d),-1==b.search(\"&lei=\")&&(d=google.'\n",
      "b'getLEI(d))&&(e+=\"&lei=\"+d));a=c||\"/\"+(g||\"gen_204\")+\"?atyp=i&ct=\"+a+\"&cad=\"+b+e+f+\"&zx=\"+google.time'\n",
      "b'();/^http:/i.test(a)&&google.https()&&(google.ml(Error(\"a\"),!1,{src:a,glmm:1}),a=\"\");return a};googl'\n",
      "b'e.y={};google.x=function(a,b){google.y[a.id]=[a,b];return!1};google.lq=[];google.load=function(a,b,c'\n",
      "b'){google.lq.push([[a],b,c])};google.loadAll=function(a,b){google.lq.push([a,b])};}).call(this);var a'\n",
      "b'=window.location,b=a.href.indexOf(\"#\");if(0<=b){var c=a.href.substring(b+1);/(^|&)q=/.test(c)&&-1==c'\n",
      "b'.indexOf(\"#\")&&a.replace(\"/search?\"+c.replace(/(^|&)fp=[^&]*/g,\"\")+\"&cad=h\")};</script><style>#gb{fo'\n",
      "b'nt:13px/27px Arial,sans-serif;height:30px}#gbz,#gbg{position:absolute;white-space:nowrap;top:0;heigh'\n",
      "b't:30px;z-index:1000}#gbz{left:0;padding-left:4px}#gbg{right:0;padding-right:5px}#gbs{background:tran'\n",
      "b'sparent;position:absolute;top:-999px;visibility:hidden;z-index:998;right:0}.gbto #gbs{background:#ff'\n",
      "b'f}#gbx3,#gbx4{background-color:#2d2d2d;background-image:none;_background-image:none;background-posit'\n",
      "b'ion:0 -138px;background-repeat:repeat-x;border-bottom:1px solid #000;font-size:24px;height:29px;_hei'\n",
      "b'ght:30px;opacity:1;filter:alpha(opacity=100);position:absolute;top:0;width:100%;z-index:990}#gbx3{le'\n",
      "b'ft:0}#gbx4{right:0}#gbb{position:relative}#gbbw{left:0;position:absolute;top:30px;width:100%}.gbtcb{'\n",
      "b'position:absolute;visibility:hidden}#gbz .gbtcb{right:0}#gbg .gbtcb{left:0}.gbxx{display:none !impor'\n",
      "b'tant}.gbxo{opacity:0 !important;filter:alpha(opacity=0) !important}.gbm{position:absolute;z-index:99'\n",
      "b'9;top:-999px;visibility:hidden;text-align:left;border:1px solid #bebebe;background:#fff;-moz-box-sha'\n",
      "b'dow:-1px 1px 1px rgba(0,0,0,.2);-webkit-box-shadow:0 2px 4px rgba(0,0,0,.2);box-shadow:0 2px 4px rgb'\n",
      "b'a(0,0,0,.2)}.gbrtl .gbm{-moz-box-shadow:1px 1px 1px rgba(0,0,0,.2)}.gbto .gbm,.gbto #gbs{top:29px;vi'\n",
      "b'sibility:visible}#gbz .gbm{left:0}#gbg .gbm{right:0}.gbxms{background-color:#ccc;display:block;posit'\n",
      "b'ion:absolute;z-index:1;top:-1px;left:-2px;right:-2px;bottom:-2px;opacity:.4;-moz-border-radius:3px;f'\n",
      "b'ilter:progid:DXImageTransform.Microsoft.Blur(pixelradius=5);*opacity:1;*top:-2px;*left:-5px;*right:5'\n",
      "b'px;*bottom:4px;-ms-filter:\"progid:DXImageTransform.Microsoft.Blur(pixelradius=5)\";opacity:1\\\\0/;top:-'\n",
      "b'4px\\\\0/;left:-6px\\\\0/;right:5px\\\\0/;bottom:4px\\\\0/}.gbma{position:relative;top:-1px;border-style:solid d'\n",
      "b'ashed dashed;border-color:transparent;border-top-color:#c0c0c0;display:-moz-inline-box;display:inlin'\n",
      "b'e-block;font-size:0;height:0;line-height:0;width:0;border-width:3px 3px 0;padding-top:1px;left:4px}#'\n",
      "b'gbztms1,#gbi4m1,#gbi4s,#gbi4t{zoom:1}.gbtc,.gbmc,.gbmcc{display:block;list-style:none;margin:0;paddi'\n",
      "b'ng:0}.gbmc{background:#fff;padding:10px 0;position:relative;z-index:2;zoom:1}.gbt{position:relative;'\n",
      "b'display:-moz-inline-box;display:inline-block;line-height:27px;padding:0;vertical-align:top}.gbt{*dis'\n",
      "b'play:inline}.gbto{box-shadow:0 2px 4px rgba(0,0,0,.2);-moz-box-shadow:0 2px 4px rgba(0,0,0,.2);-webk'\n",
      "b'it-box-shadow:0 2px 4px rgba(0,0,0,.2)}.gbzt,.gbgt{cursor:pointer;display:block;text-decoration:none'\n",
      "b' !important}span#gbg6,span#gbg4{cursor:default}.gbts{border-left:1px solid transparent;border-right:'\n",
      "b'1px solid transparent;display:block;*display:inline-block;padding:0 5px;position:relative;z-index:10'\n",
      "b'00}.gbts{*display:inline}.gbzt .gbts{display:inline;zoom:1}.gbto .gbts{background:#fff;border-color:'\n",
      "b'#bebebe;color:#36c;padding-bottom:1px;padding-top:2px}.gbz0l .gbts{color:#fff;font-weight:bold}.gbts'\n",
      "b'a{padding-right:9px}#gbz .gbzt,#gbz .gbgt,#gbg .gbgt{color:#ccc!important}.gbtb2{display:block;borde'\n",
      "b'r-top:2px solid transparent}.gbto .gbzt .gbtb2,.gbto .gbgt .gbtb2{border-top-width:0}.gbtb .gbts{bac'\n",
      "b'kground:url(https://ssl.gstatic.com/gb/images/b_8d5afc09.png);_background:url(https://ssl.gstatic.co'\n",
      "b'm/gb/images/b8_3615d64d.png);background-position:-27px -22px;border:0;font-size:0;padding:29px 0 0;*'\n",
      "b'padding:27px 0 0;width:1px}.gbzt:hover,.gbzt:focus,.gbgt-hvr,.gbgt:focus{background-color:#4c4c4c;ba'\n",
      "b'ckground-image:none;_background-image:none;background-position:0 -102px;background-repeat:repeat-x;o'\n",
      "b'utline:none;text-decoration:none !important}.gbpdjs .gbto .gbm{min-width:99%}.gbz0l .gbtb2{border-to'\n",
      "b'p-color:#dd4b39!important}#gbi4s,#gbi4s1{font-weight:bold}#gbg6.gbgt-hvr,#gbg6.gbgt:focus{background'\n",
      "b'-color:transparent;background-image:none}.gbg4a{font-size:0;line-height:0}.gbg4a .gbts{padding:27px '\n",
      "b'5px 0;*padding:25px 5px 0}.gbto .gbg4a .gbts{padding:29px 5px 1px;*padding:27px 5px 1px}#gbi4i,#gbi4'\n",
      "b'id{left:5px;border:0;height:24px;position:absolute;top:1px;width:24px}.gbto #gbi4i,.gbto #gbi4id{top'\n",
      "b':3px}.gbi4p{display:block;width:24px}#gbi4id{background-position:-44px -101px}#gbmpid{background-pos'\n",
      "b'ition:0 0}#gbmpi,#gbmpid{border:none;display:inline-block;height:48px;width:48px}#gbmpiw{display:inl'\n",
      "b'ine-block;line-height:9px;padding-left:20px;margin-top:10px;position:relative}#gbmpi,#gbmpid,#gbmpiw'\n",
      "b'{*display:inline}#gbg5{font-size:0}#gbgs5{padding:5px !important}.gbto #gbgs5{padding:7px 5px 6px !i'\n",
      "b'mportant}#gbi5{background:url(https://ssl.gstatic.com/gb/images/b_8d5afc09.png);_background:url(http'\n",
      "b's://ssl.gstatic.com/gb/images/b8_3615d64d.png);background-position:0 0;display:block;font-size:0;hei'\n",
      "b'ght:17px;width:16px}.gbto #gbi5{background-position:-6px -22px}.gbn .gbmt,.gbn .gbmt:visited,.gbnd .'\n",
      "b'gbmt,.gbnd .gbmt:visited{color:#dd8e27 !important}.gbf .gbmt,.gbf .gbmt:visited{color:#900 !importan'\n",
      "b't}.gbmt,.gbml1,.gbmlb,.gbmt:visited,.gbml1:visited,.gbmlb:visited{color:#36c !important;text-decorat'\n",
      "b'ion:none !important}.gbmt,.gbmt:visited{display:block}.gbml1,.gbmlb,.gbml1:visited,.gbmlb:visited{di'\n",
      "b'splay:inline-block;margin:0 10px}.gbml1,.gbmlb,.gbml1:visited,.gbmlb:visited{*display:inline}.gbml1,'\n",
      "b'.gbml1:visited{padding:0 10px}.gbml1-hvr,.gbml1:focus{outline:none;text-decoration:underline !import'\n",
      "b'ant}#gbpm .gbml1{display:inline;margin:0;padding:0;white-space:nowrap}.gbmlb,.gbmlb:visited{line-hei'\n",
      "b'ght:27px}.gbmlb-hvr,.gbmlb:focus{outline:none;text-decoration:underline !important}.gbmlbw{color:#cc'\n",
      "b'c;margin:0 10px}.gbmt{padding:0 20px}.gbmt:hover,.gbmt:focus{background:#eee;cursor:pointer;outline:'\n",
      "b'0 solid black;text-decoration:none !important}.gbm0l,.gbm0l:visited{color:#000 !important;font-weigh'\n",
      "b't:bold}.gbmh{border-top:1px solid #bebebe;font-size:0;margin:10px 0}#gbd4 .gbmc{background:#f5f5f5;p'\n",
      "b'adding-top:0}#gbd4 .gbsbic::-webkit-scrollbar-track:vertical{background-color:#f5f5f5;margin-top:2px'\n",
      "b'}#gbmpdv{background:#fff;border-bottom:1px solid #bebebe;-moz-box-shadow:0 2px 4px rgba(0,0,0,.12);-'\n",
      "b'o-box-shadow:0 2px 4px rgba(0,0,0,.12);-webkit-box-shadow:0 2px 4px rgba(0,0,0,.12);box-shadow:0 2px'\n",
      "b' 4px rgba(0,0,0,.12);position:relative;z-index:1}#gbd4 .gbmh{margin:0}.gbmtc{padding:0;margin:0;line'\n",
      "b\"-height:27px}.GBMCC:last-child:after,#GBMPAL:last-child:after{content:'\\\\0A\\\\0A';white-space:pre;posit\"\n",
      "b'ion:absolute}#gbmps{*zoom:1}#gbd4 .gbpc,#gbmpas .gbmt{line-height:17px}#gbd4 .gbpgs .gbmtc{line-heig'\n",
      "b'ht:27px}#gbd4 .gbmtc{border-bottom:1px solid #bebebe}#gbd4 .gbpc{display:inline-block;margin:16px 0 '\n",
      "b'10px;padding-right:50px;vertical-align:top}#gbd4 .gbpc{*display:inline}.gbpc .gbps,.gbpc .gbps2{disp'\n",
      "b'lay:block;margin:0 20px}#gbmplp.gbps{margin:0 10px}.gbpc .gbps{color:#000;font-weight:bold}.gbpc .gb'\n",
      "b'pd{margin-bottom:5px}.gbpd .gbmt,.gbpd .gbps{color:#666 !important}.gbpd .gbmt{opacity:.4;filter:alp'\n",
      "b'ha(opacity=40)}.gbps2{color:#666;display:block}.gbp0{display:none}.gbp0 .gbps2{font-weight:bold}#gbd'\n",
      "b'4 .gbmcc{margin-top:5px}.gbpmc{background:#fef9db}.gbpmc .gbpmtc{padding:10px 20px}#gbpm{border:0;*b'\n",
      "b'order-collapse:collapse;border-spacing:0;margin:0;white-space:normal}#gbpm .gbpmtc{border-top:none;c'\n",
      "b'olor:#000 !important;font:11px Arial,sans-serif}#gbpms{*white-space:nowrap}.gbpms2{font-weight:bold;'\n",
      "b'white-space:nowrap}#gbmpal{*border-collapse:collapse;border-spacing:0;border:0;margin:0;white-space:'\n",
      "b'nowrap;width:100%}.gbmpala,.gbmpalb{font:13px Arial,sans-serif;line-height:27px;padding:10px 20px 0;'\n",
      "b'white-space:nowrap}.gbmpala{padding-left:0;text-align:left}.gbmpalb{padding-right:0;text-align:right'\n",
      "b'}#gbmpasb .gbps{color:#000}#gbmpal .gbqfbb{margin:0 20px}.gbp0 .gbps{*display:inline}a.gbiba{margin:'\n",
      "b'8px 20px 10px}.gbmpiaw{display:inline-block;padding-right:10px;margin-bottom:6px;margin-top:10px}.gb'\n",
      "b'xv{visibility:hidden}.gbmpiaa{display:block;margin-top:10px}.gbmpia{border:none;display:block;height'\n",
      "b':48px;width:48px}.gbmpnw{display:inline-block;height:auto;margin:10px 0;vertical-align:top}\\n.gbqfb,.'\n",
      "b'gbqfba,.gbqfbb{-moz-border-radius:2px;-webkit-border-radius:2px;border-radius:2px;cursor:default !im'\n",
      "b'portant;display:inline-block;font-weight:bold;height:29px;line-height:29px;min-width:54px;*min-width'\n",
      "b':70px;padding:0 8px;text-align:center;text-decoration:none !important;-moz-user-select:none;-webkit-'\n",
      "b'user-select:none}.gbqfb:focus,.gbqfba:focus,.gbqfbb:focus{border:1px solid #4d90fe;-moz-box-shadow:i'\n",
      "b'nset 0 0 0 1px rgba(255, 255, 255, 0.5);-webkit-box-shadow:inset 0 0 0 1px rgba(255, 255, 255, 0.5);'\n",
      "b'box-shadow:inset 0 0 0 1px rgba(255, 255, 255, 0.5);outline:none}.gbqfb-hvr:focus,.gbqfba-hvr:focus,'\n",
      "b'.gbqfbb-hvr:focus{-webkit-box-shadow:inset 0 0 0 1px #fff,0 1px 1px rgba(0,0,0,.1);-moz-box-shadow:i'\n",
      "b'nset 0 0 0 1px #fff,0 1px 1px rgba(0,0,0,.1);box-shadow:inset 0 0 0 1px #fff,0 1px 1px rgba(0,0,0,.1'\n",
      "b')}.gbqfb-no-focus:focus{border:1px solid #3079ed;-moz-box-shadow:none;-webkit-box-shadow:none;box-sh'\n",
      "b'adow:none}.gbqfb-hvr,.gbqfba-hvr,.gbqfbb-hvr{-webkit-box-shadow:0 1px 1px rgba(0,0,0,.1);-moz-box-sh'\n",
      "b'adow:0 1px 1px rgba(0,0,0,.1);box-shadow:0 1px 1px rgba(0,0,0,.1)}.gbqfb::-moz-focus-inner,.gbqfba::'\n",
      "b'-moz-focus-inner,.gbqfbb::-moz-focus-inner{border:0}.gbqfba,.gbqfbb{border:1px solid #dcdcdc;border-'\n",
      "b'color:rgba(0,0,0,.1);color:#444 !important;font-size:11px}.gbqfb{background-color:#4d90fe;background'\n",
      "b'-image:-webkit-gradient(linear,left top,left bottom,from(#4d90fe),to(#4787ed));background-image:-web'\n",
      "b'kit-linear-gradient(top,#4d90fe,#4787ed);background-image:-moz-linear-gradient(top,#4d90fe,#4787ed);'\n",
      "b'background-image:-ms-linear-gradient(top,#4d90fe,#4787ed);background-image:-o-linear-gradient(top,#4'\n",
      "b'd90fe,#4787ed);background-image:linear-gradient(top,#4d90fe,#4787ed);filter:progid:DXImageTransform.'\n",
      "b\"Microsoft.gradient(startColorStr='#4d90fe',EndColorStr='#4787ed');border:1px solid #3079ed;color:#ff\"\n",
      "b'f!important;margin:0 0}.gbqfb-hvr{border-color:#2f5bb7}.gbqfb-hvr:focus{border-color:#2f5bb7}.gbqfb-'\n",
      "b'hvr,.gbqfb-hvr:focus{background-color:#357ae8;background-image:-webkit-gradient(linear,left top,left'\n",
      "b' bottom,from(#4d90fe),to(#357ae8));background-image:-webkit-linear-gradient(top,#4d90fe,#357ae8);bac'\n",
      "b'kground-image:-moz-linear-gradient(top,#4d90fe,#357ae8);background-image:-ms-linear-gradient(top,#4d'\n",
      "b'90fe,#357ae8);background-image:-o-linear-gradient(top,#4d90fe,#357ae8);background-image:linear-gradi'\n",
      "b'ent(top,#4d90fe,#357ae8)}.gbqfb:active{background-color:inherit;-webkit-box-shadow:inset 0 1px 2px r'\n",
      "b'gba(0, 0, 0, 0.3);-moz-box-shadow:inset 0 1px 2px rgba(0, 0, 0, 0.3);box-shadow:inset 0 1px 2px rgba'\n",
      "b'(0, 0, 0, 0.3)}.gbqfba{background-color:#f5f5f5;background-image:-webkit-gradient(linear,left top,le'\n",
      "b'ft bottom,from(#f5f5f5),to(#f1f1f1));background-image:-webkit-linear-gradient(top,#f5f5f5,#f1f1f1);b'\n",
      "b'ackground-image:-moz-linear-gradient(top,#f5f5f5,#f1f1f1);background-image:-ms-linear-gradient(top,#'\n",
      "b'f5f5f5,#f1f1f1);background-image:-o-linear-gradient(top,#f5f5f5,#f1f1f1);background-image:linear-gra'\n",
      "b\"dient(top,#f5f5f5,#f1f1f1);filter:progid:DXImageTransform.Microsoft.gradient(startColorStr='#f5f5f5'\"\n",
      "b\",EndColorStr='#f1f1f1')}.gbqfba-hvr,.gbqfba-hvr:active{background-color:#f8f8f8;background-image:-we\"\n",
      "b'bkit-gradient(linear,left top,left bottom,from(#f8f8f8),to(#f1f1f1));background-image:-webkit-linear'\n",
      "b'-gradient(top,#f8f8f8,#f1f1f1);background-image:-moz-linear-gradient(top,#f8f8f8,#f1f1f1);background'\n",
      "b'-image:-ms-linear-gradient(top,#f8f8f8,#f1f1f1);background-image:-o-linear-gradient(top,#f8f8f8,#f1f'\n",
      "b'1f1);background-image:linear-gradient(top,#f8f8f8,#f1f1f1);filter:progid:DXImageTransform.Microsoft.'\n",
      "b\"gradient(startColorStr='#f8f8f8',EndColorStr='#f1f1f1')}.gbqfbb{background-color:#fff;background-ima\"\n",
      "b'ge:-webkit-gradient(linear,left top,left bottom,from(#fff),to(#fbfbfb));background-image:-webkit-lin'\n",
      "b'ear-gradient(top,#fff,#fbfbfb);background-image:-moz-linear-gradient(top,#fff,#fbfbfb);background-im'\n",
      "b'age:-ms-linear-gradient(top,#fff,#fbfbfb);background-image:-o-linear-gradient(top,#fff,#fbfbfb);back'\n",
      "b'ground-image:linear-gradient(top,#fff,#fbfbfb);filter:progid:DXImageTransform.Microsoft.gradient(sta'\n",
      "b\"rtColorStr='#ffffff',EndColorStr='#fbfbfb')}.gbqfbb-hvr,.gbqfbb-hvr:active{background-color:#fff;bac\"\n",
      "b'kground-image:-webkit-gradient(linear,left top,left bottom,from(#fff),to(#f8f8f8));background-image:'\n",
      "b'-webkit-linear-gradient(top,#fff,#f8f8f8);background-image:-moz-linear-gradient(top,#fff,#f8f8f8);ba'\n",
      "b'ckground-image:-ms-linear-gradient(top,#fff,#f8f8f8);background-image:-o-linear-gradient(top,#fff,#f'\n",
      "b'8f8f8);background-image:linear-gradient(top,#fff,#f8f8f8);filter:progid:DXImageTransform.Microsoft.g'\n",
      "b\"radient(startColorStr='#ffffff',EndColorStr='#f8f8f8')}.gbqfba-hvr,.gbqfba-hvr:active,.gbqfbb-hvr,.g\"\n",
      "b'bqfbb-hvr:active{border-color:#c6c6c6;-webkit-box-shadow:0 1px 1px rgba(0,0,0,.1);-moz-box-shadow:0 '\n",
      "b'1px 1px rgba(0,0,0,.1);box-shadow:0 1px 1px rgba(0,0,0,.1);color:#222 !important}.gbqfba:active,.gbq'\n",
      "b'fbb:active{-webkit-box-shadow:inset 0 1px 2px rgba(0,0,0,.1);-moz-box-shadow:inset 0 1px 2px rgba(0,'\n",
      "b'0,0,.1);box-shadow:inset 0 1px 2px rgba(0,0,0,.1)}\\n#gbmpas{max-height:220px}#gbmm{max-height:530px}.'\n",
      "b'gbsb{-webkit-box-sizing:border-box;display:block;position:relative;*zoom:1}.gbsbic{overflow:auto}.gb'\n",
      "b'sbis .gbsbt,.gbsbis .gbsbb{-webkit-mask-box-image:-webkit-gradient(linear,left top,right top,color-s'\n",
      "b'top(0,rgba(0,0,0,.1)),color-stop(.5,rgba(0,0,0,.8)),color-stop(1,rgba(0,0,0,.1)));left:0;margin-righ'\n",
      "b't:0;opacity:0;position:absolute;width:100%}.gbsb .gbsbt:after,.gbsb .gbsbb:after{content:\"\";display:'\n",
      "b'block;height:0;left:0;position:absolute;width:100%}.gbsbis .gbsbt{background:-webkit-gradient(linear'\n",
      "b',left top,left bottom,from(rgba(0,0,0,.2)),to(rgba(0,0,0,0)));background-image:-webkit-linear-gradie'\n",
      "b'nt(top,rgba(0,0,0,.2),rgba(0,0,0,0));background-image:-moz-linear-gradient(top,rgba(0,0,0,.2),rgba(0'\n",
      "b',0,0,0));background-image:-ms-linear-gradient(top,rgba(0,0,0,.2),rgba(0,0,0,0));background-image:-o-'\n",
      "b'linear-gradient(top,rgba(0,0,0,.2),rgba(0,0,0,0));background-image:linear-gradient(top,rgba(0,0,0,.2'\n",
      "b'),rgba(0,0,0,0));height:6px;top:0}.gbsb .gbsbt:after{border-top:1px solid #ebebeb;border-color:rgba('\n",
      "b'0,0,0,.3);top:0}.gbsb .gbsbb{-webkit-mask-box-image:-webkit-gradient(linear,left top,right top,color'\n",
      "b'-stop(0,rgba(0,0,0,.1)),color-stop(.5,rgba(0,0,0,.8)),color-stop(1,rgba(0,0,0,.1)));background:-webk'\n",
      "b'it-gradient(linear,left bottom,left top,from(rgba(0,0,0,.2)),to(rgba(0,0,0,0)));background-image:-we'\n",
      "b'bkit-linear-gradient(bottom,rgba(0,0,0,.2),rgba(0,0,0,0));background-image:-moz-linear-gradient(bott'\n",
      "b'om,rgba(0,0,0,.2),rgba(0,0,0,0));background-image:-ms-linear-gradient(bottom,rgba(0,0,0,.2),rgba(0,0'\n",
      "b',0,0));background-image:-o-linear-gradient(bottom,rgba(0,0,0,.2),rgba(0,0,0,0));background-image:lin'\n",
      "b'ear-gradient(bottom,rgba(0,0,0,.2),rgba(0,0,0,0));bottom:0;height:4px}.gbsb .gbsbb:after{border-bott'\n",
      "b'om:1px solid #ebebeb;border-color:rgba(0,0,0,.3);bottom:0}\\n</style><style>body,td,a,p,.h{font-family'\n",
      "b':arial,sans-serif}body{margin:0;overflow-y:scroll}#gog{padding:3px 8px 0}td{line-height:.8em}.gac_m '\n",
      "b'td{line-height:17px}form{margin-bottom:20px}.h{color:#36c}.q{color:#00c}.ts td{padding:0}.ts{border-'\n",
      "b'collapse:collapse}em{color:#c03;font-style:normal;font-weight:normal}a em{text-decoration:underline}'\n",
      "b'.lst{height:25px;width:496px}.gsfi,.lst{font:18px arial,sans-serif}.gsfs{font:17px arial,sans-serif}'\n",
      "b'.ds{display:inline-box;display:inline-block;margin:3px 0 4px;margin-left:4px}input{font-family:inher'\n",
      "b'it}a.gb1,a.gb2,a.gb3,a.gb4{color:#11c !important}body{background:#fff;color:black}a{color:#11c;text-'\n",
      "b'decoration:none}a:hover,a:active{text-decoration:underline}.fl a{color:#36c}a:visited{color:#551a8b}'\n",
      "b'a.gb1,a.gb4{text-decoration:underline}a.gb3:hover{text-decoration:none}#ghead a.gb2:hover{color:#fff'\n",
      "b' !important}.sblc{padding-top:5px}.sblc a{display:block;margin:2px 0;margin-left:13px;font-size:11px'\n",
      "b'}.lsbb{background:#eee;border:solid 1px;border-color:#ccc #999 #999 #ccc;height:30px}.lsbb{display:b'\n",
      "b'lock}.ftl,#fll a{display:inline-block;margin:0 12px}.lsb{background:url(/images/nav_logo229.png) 0 -'\n",
      "b'261px repeat-x;border:none;color:#000;cursor:pointer;height:30px;margin:0;outline:0;font:15px arial,'\n",
      "b'sans-serif;vertical-align:top}.lsb:active{background:#ccc}.lst:focus{outline:none}</style><script>(f'\n",
      "b'unction(){try{var e=this;var aa=function(a,b,c,d){d=d||{};d._sn=[\"cfg\",b,c].join(\".\");window.gbar.lo'\n",
      "b'gger.ml(a,d)};var g=window.gbar=window.gbar||{},h=window.gbar.i=window.gbar.i||{},ba;function _tvn(a'\n",
      "b',b){a=parseInt(a,10);return isNaN(a)?b:a}function _tvf(a,b){a=parseFloat(a);return isNaN(a)?b:a}func'\n",
      "b'tion _tvv(a){return!!a}function p(a,b,c){(c||g)[a]=b}g.bv={n:_tvn(\"2\",0),r:\"\",f:\".66.41.\",e:\"1300102'\n",
      "b',3700315,3700347\",m:_tvn(\"1\",1)};\\nfunction ca(a,b,c){var d=\"on\"+b;if(a.addEventListener)a.addEventLi'\n",
      "b'stener(b,c,!1);else if(a.attachEvent)a.attachEvent(d,c);else{var f=a[d];a[d]=function(){var a=f.appl'\n",
      "b'y(this,arguments),b=c.apply(this,arguments);return void 0==a?b:void 0==b?a:b&&a}}}var da=function(a)'\n",
      "b'{return function(){return g.bv.m==a}},ea=da(1),fa=da(2);p(\"sb\",ea);p(\"kn\",fa);h.a=_tvv;h.b=_tvf;h.c='\n",
      "b'_tvn;h.i=aa;var q=window.gbar.i.i;var r=function(){},u=function(){},ia=function(a){var b=new Image,c'\n",
      "b'=ga;b.onerror=b.onload=b.onabort=function(){try{delete ha[c]}catch(d){}};ha[c]=b;b.src=a;ga=c+1},ha='\n",
      "b'[],ga=0;p(\"logger\",{il:u,ml:r,log:ia});var v=window.gbar.logger;var y={},ja={},z=[],ka=h.b(\"0.1\",.1)'\n",
      "b',la=h.a(\"1\",!0),ma=function(a,b){z.push([a,b])},na=function(a,b){y[a]=b},oa=function(a){return a in '\n",
      "b'y},A={},B=function(a,b){A[a]||(A[a]=[]);A[a].push(b)},D=function(a){B(\"m\",a)},pa=function(a,b){var c'\n",
      "b'=document.createElement(\"script\");c.src=a;c.async=la;Math.random()<ka&&(c.onerror=function(){c.onerr'\n",
      "b'or=null;r(Error(\"Bundle load failed: name=\"+(b||\"UNK\")+\" url=\"+a))});(document.getElementById(\"xjsc\"'\n",
      "b')||document.getElementsByTagName(\"body\")[0]||\\ndocument.getElementsByTagName(\"head\")[0]).appendChild('\n",
      "b'c)},F=function(a){for(var b=0,c;(c=z[b])&&c[0]!=a;++b);!c||c[1].l||c[1].s||(c[1].s=!0,qa(2,a),c[1].u'\n",
      "b'rl&&pa(c[1].url,a),c[1].libs&&E&&E(c[1].libs))},ra=function(a){B(\"gc\",a)},sa=null,ta=function(a){sa='\n",
      "b'a},qa=function(a,b,c){if(sa){a={t:a,b:b};if(c)for(var d in c)a[d]=c[d];try{sa(a)}catch(f){}}};p(\"mdc'\n",
      "b'\",y);p(\"mdi\",ja);p(\"bnc\",z);p(\"qGC\",ra);p(\"qm\",D);p(\"qd\",A);p(\"lb\",F);p(\"mcf\",na);p(\"bcf\",ma);p(\"aq\"'\n",
      "b',B);p(\"mdd\",\"\");\\np(\"has\",oa);p(\"trh\",ta);p(\"tev\",qa);if(h.a(\"1\")){var ua=h.a(\"1\"),va=h.a(\"\"),wa=h.a('\n",
      "b'\"\"),xa=window.gapi={},ya=function(a,b){var c=function(){g.dgl(a,b)};ua?D(c):(B(\"gl\",c),F(\"gl\"))},za='\n",
      "b'{},Aa=function(a){a=a.split(\":\");for(var b;(b=a.pop())&&za[b];);return!b},E=function(a){function b()'\n",
      "b'{for(var b=a.split(\":\"),d=0,f;f=b[d];++d)za[f]=1;for(b=0;d=z[b];++b)d=d[1],(f=d.libs)&&!d.l&&d.i&&Aa'\n",
      "b'(f)&&d.i()}g.dgl(a,b)},H=window.___jsl={};H.h=\"m;/_/scs/abc-static/_/js/k=gapi.gapi.en.-QXB_U8R8Eg.O'\n",
      "b'/m=__features__/rt=j/d=1/rs=AHpOoo8PUrmM-10GgMhjxf52iM2kLRUicg\";H.ms=\"https://apis.google.com\";\\nH.m='\n",
      "b'\"\";H.l=[];ua||z.push([\"gl\",{url:\"//ssl.gstatic.com/gb/js/abc/glm_e7bb39a7e1a24581ff4f8d199678b1b9.js'\n",
      "b'\"}]);var Ba={pu:va,sh:\"\",si:wa,hl:\"zh-TW\"};y.gl=Ba;p(\"load\",ya,xa);p(\"dgl\",ya);p(\"agl\",Aa);h.o=ua};v'\n",
      "b'ar Ca=h.b(\"0.1\",.001),Da=0;\\nfunction _mlToken(a,b){try{if(1>Da){Da++;var c,d=a;b=b||{};var f=encodeU'\n",
      "b'RIComponent,k=[\"//www.google.com/gen_204?atyp=i&zx=\",(new Date).getTime(),\"&jexpid=\",f(\"28834\"),\"&sr'\n",
      "b'cpg=\",f(\"prop=1\"),\"&jsr=\",Math.round(1/Ca),\"&ogev=\",f(\"5kzGWODGO4Sw0AS84pjYCA\"),\"&ogf=\",g.bv.f,\"&ogr'\n",
      "b'p=\",f(\"\"),\"&ogv=\",f(\"1488948154.0\"),\"&oggv=\"+f(\"es_plusone_gc_20170223.0_p0\"),\"&ogd=\",f(\"com.tw\"),\"&'\n",
      "b'ogc=\",f(\"TWN\"),\"&ogl=\",f(\"zh-TW\")];b._sn&&(b._sn=\\n\"og.\"+b._sn);for(var m in b)k.push(\"&\"),k.push(f(m'\n",
      "b')),k.push(\"=\"),k.push(f(b[m]));k.push(\"&emsg=\");k.push(f(d.name+\":\"+d.message));var n=k.join(\"\");Ea('\n",
      "b'n)&&(n=n.substr(0,2E3));c=n;var l=window.gbar.logger._aem(a,c);ia(l)}}catch(t){}}var Ea=function(a){'\n",
      "b'return 2E3<=a.length},Fa=function(a,b){return b};function Ga(a){r=a;p(\"_itl\",Ea,v);p(\"_aem\",Fa,v);p('\n",
      "b'\"ml\",r,v);a={};y.er=a}h.a(\"\")?Ga(function(a){throw a;}):h.a(\"1\")&&Math.random()<Ca&&Ga(_mlToken);var'\n",
      "b' _E=\"left\",Ha=h.a(\"\"),J=function(a,b){var c=a.className;I(a,b)||(a.className+=(\"\"!=c?\" \":\"\")+b)},K=f'\n",
      "b'unction(a,b){var c=a.className;b=new RegExp(\"\\\\\\\\s?\\\\\\\\b\"+b+\"\\\\\\\\b\");c&&c.match(b)&&(a.className=c.replace'\n",
      "b'(b,\"\"))},I=function(a,b){b=new RegExp(\"\\\\\\\\b\"+b+\"\\\\\\\\b\");a=a.className;return!(!a||!a.match(b))},Ia=func'\n",
      "b'tion(a,b){I(a,b)?K(a,b):J(a,b)},Ja=function(a,b){a[b]=function(c){var d=arguments;g.qm(function(){a['\n",
      "b'b].apply(this,d)})}},Ka=function(a){a=[\"//www.gstatic.com\",\"/og/_/js/d=1/k=\",\\n\"og.og2.en_US.xU6vN4X8'\n",
      "b'hT8.O\",\"/rt=j/m=\",a,\"/rs=\",\"AA2YrTulp2RdAAiP4r17QPX9uvOg7N0ysg\"];Ha&&a.push(\"?host=www.gstatic.com&b'\n",
      "b'ust=og.og2.en_US.7fPzRHE0N2E.DU\");a=a.join(\"\");pa(a)};p(\"ca\",J);p(\"cr\",K);p(\"cc\",I);h.k=J;h.l=K;h.m='\n",
      "b'I;h.n=Ia;h.p=Ka;h.q=Ja;var La=[\"gb_71\",\"gb_155\"],Ma;function Na(a){Ma=a}function Oa(a){var b=Ma&&!a.'\n",
      "b'href.match(/.*\\\\/accounts\\\\/ClearSID[?]/)&&encodeURIComponent(Ma());b&&(a.href=a.href.replace(/([?&]co'\n",
      "b'ntinue=)[^&]*/,\"$1\"+b))}function Pa(a){window.gApplication&&(a.href=window.gApplication.getTabUrl(a.'\n",
      "b'href))}function Qa(a){try{var b=(document.forms[0].q||\"\").value;b&&(a.href=a.href.replace(/([?&])q=['\n",
      "b'^&]*|$/,function(a,d){return(d||\"&\")+\"q=\"+encodeURIComponent(b)}))}catch(c){q(c,\"sb\",\"pq\")}}\\nvar Ra='\n",
      "b'function(){for(var a=[],b=0,c;c=La[b];++b)(c=document.getElementById(c))&&a.push(c);return a},Sa=fun'\n",
      "b'ction(){var a=Ra();return 0<a.length?a[0]:null},Ta=function(){return document.getElementById(\"gb_70\"'\n",
      "b')},L={},M={},Ua={},N={},O=void 0,Za=function(a,b){try{var c=document.getElementById(\"gb\");J(c,\"gbpdj'\n",
      "b's\");P();Va(document.getElementById(\"gb\"))&&J(c,\"gbrtl\");if(b&&b.getAttribute){var d=b.getAttribute(\"'\n",
      "b'aria-owns\");if(d.length){var f=document.getElementById(d);if(f){var k=b.parentNode;if(O==d)O=void 0,'\n",
      "b'\\nK(k,\"gbto\");else{if(O){var m=document.getElementById(O);if(m&&m.getAttribute){var n=m.getAttribute('\n",
      "b'\"aria-owner\");if(n.length){var l=document.getElementById(n);l&&l.parentNode&&K(l.parentNode,\"gbto\")}'\n",
      "b'}}Wa(f)&&Xa(f);O=d;J(k,\"gbto\")}}}}D(function(){g.tg(a,b,!0)});Ya(a)}catch(t){q(t,\"sb\",\"tg\")}},$a=fun'\n",
      "b'ction(a){D(function(){g.close(a)})},ab=function(a){D(function(){g.rdd(a)})},Va=function(a){var b,c=d'\n",
      "b'ocument.defaultView;c&&c.getComputedStyle?(a=c.getComputedStyle(a,\"\"))&&(b=a.direction):b=a.currentS'\n",
      "b'tyle?\\na.currentStyle.direction:a.style.direction;return\"rtl\"==b},cb=function(a,b,c){if(a)try{var d=d'\n",
      "b'ocument.getElementById(\"gbd5\");if(d){var f=d.firstChild,k=f.firstChild,m=document.createElement(\"li\"'\n",
      "b');m.className=b+\" gbmtc\";m.id=c;a.className=\"gbmt\";m.appendChild(a);if(k.hasChildNodes()){c=[[\"gbkc\"'\n",
      "b'],[\"gbf\",\"gbe\",\"gbn\"],[\"gbkp\"],[\"gbnd\"]];for(var d=0,n=k.childNodes.length,f=!1,l=-1,t=0,C;C=c[t];t+'\n",
      "b'+){for(var T=0,G;G=C[T];T++){for(;d<n&&I(k.childNodes[d],G);)d++;if(G==b){k.insertBefore(m,k.childNo'\n",
      "b'des[d]||\\nnull);f=!0;break}}if(f){if(d+1<k.childNodes.length){var U=k.childNodes[d+1];I(U.firstChild,'\n",
      "b'\"gbmh\")||bb(U,C)||(l=d+1)}else if(0<=d-1){var V=k.childNodes[d-1];I(V.firstChild,\"gbmh\")||bb(V,C)||('\n",
      "b'l=d)}break}0<d&&d+1<n&&d++}if(0<=l){var w=document.createElement(\"li\"),x=document.createElement(\"div'\n",
      "b'\");w.className=\"gbmtc\";x.className=\"gbmt gbmh\";w.appendChild(x);k.insertBefore(w,k.childNodes[l])}g.'\n",
      "b'addHover&&g.addHover(a)}else k.appendChild(m)}}catch(Ab){q(Ab,\"sb\",\"al\")}},bb=function(a,b){for(var '\n",
      "b'c=b.length,\\nd=0;d<c;d++)if(I(a,b[d]))return!0;return!1},db=function(a,b,c){cb(a,b,c)},eb=function(a,'\n",
      "b'b){cb(a,\"gbe\",b)},fb=function(){D(function(){g.pcm&&g.pcm()})},gb=function(){D(function(){g.pca&&g.p'\n",
      "b'ca()})},hb=function(a,b,c,d,f,k,m,n,l,t){D(function(){g.paa&&g.paa(a,b,c,d,f,k,m,n,l,t)})},ib=functi'\n",
      "b'on(a,b){L[a]||(L[a]=[]);L[a].push(b)},jb=function(a,b){M[a]||(M[a]=[]);M[a].push(b)},kb=function(a,b'\n",
      "b'){Ua[a]=b},lb=function(a,b){N[a]||(N[a]=[]);N[a].push(b)},Ya=function(a){a.preventDefault&&a.prevent'\n",
      "b'Default();a.returnValue=\\n!1;a.cancelBubble=!0},mb=null,Xa=function(a,b){P();if(a){nb(a,\"\\xb6}\\xb1\\xd2&hellip;'\n",
      "b'\");Q(a,!0);b=\"undefined\"!=typeof b?b:1E4;var c=function(){ob(a)};mb=window.setTimeout(c,b)}},pb=func'\n",
      "b'tion(a){P();a&&(Q(a,!1),nb(a,\"\"))},ob=function(a){try{P();var b=a||document.getElementById(O);b&&(nb'\n",
      "b'(b,\"\\xa5\\xbb\\xaaA\\xb0\\xc8\\xa5\\xd8\\xabe\\xb5L\\xaak\\xa8\\xcf\\xa5\\xce\\xa1C%1$s\\xbd\\xd0\\xb5y\\xad\\xd4\\xa6A\\xb8\\xd5\\xa4@\\xa6\\xb8\\xa1C\",\"%1$s\"),Q(b,!0))}catch(c){q(c,\"sb\",\"sdhe\")}},nb=functi'\n",
      "b'on(a,b,c){if(a&&b){var d=Wa(a);if(d){if(c){d.innerHTML=\"\";b=b.split(c);c=0;for(var f;f=b[c];c++){var'\n",
      "b' k=document.createElement(\"div\");\\nk.innerHTML=f;d.appendChild(k)}}else d.innerHTML=b;Q(a,!0)}}},Q=fu'\n",
      "b'nction(a,b){(b=void 0!==b?b:!0)?J(a,\"gbmsgo\"):K(a,\"gbmsgo\")},Wa=function(a){for(var b=0,c;c=a.childN'\n",
      "b'odes[b];b++)if(I(c,\"gbmsg\"))return c},P=function(){mb&&window.clearTimeout(mb)},qb=function(a){var b'\n",
      "b'=\"inner\"+a;a=\"offset\"+a;return window[b]?window[b]:document.documentElement&&document.documentElemen'\n",
      "b't[a]?document.documentElement[a]:0},rb=function(){return!1},sb=function(){return!!O};p(\"so\",Sa);p(\"s'\n",
      "b'os\",Ra);p(\"si\",Ta);p(\"tg\",Za);\\np(\"close\",$a);p(\"rdd\",ab);p(\"addLink\",db);p(\"addExtraLink\",eb);p(\"pcm'\n",
      "b'\",fb);p(\"pca\",gb);p(\"paa\",hb);p(\"ddld\",Xa);p(\"ddrd\",pb);p(\"dderr\",ob);p(\"rtl\",Va);p(\"op\",sb);p(\"bh\",'\n",
      "b'L);p(\"abh\",ib);p(\"dh\",M);p(\"adh\",jb);p(\"ch\",N);p(\"ach\",lb);p(\"eh\",Ua);p(\"aeh\",kb);ba=h.a(\"\")?Pa:Qa;p'\n",
      "b'(\"qs\",ba);p(\"setContinueCb\",Na);p(\"pc\",Oa);p(\"bsy\",rb);h.d=Ya;h.j=qb;var tb={};y.base=tb;z.push([\"m\"'\n",
      "b',{url:\"//ssl.gstatic.com/gb/js/sem_77731842c771f6afd8d5aed228e8816f.js\"}]);g.sg={c:\"1\"};p(\"wg\",{rg:{'\n",
      "b'}});var ub={tiw:h.c(\"15000\",0),tie:h.c(\"30000\",0)};y.wg=ub;var vb={thi:h.c(\"10000\",0),thp:h.c(\"18000'\n",
      "b'0\",0),tho:h.c(\"5000\",0),tet:h.b(\"0.5\",0)};y.wm=vb;if(h.a(\"1\")){var wb=h.a(\"\");z.push([\"gc\",{auto:wb,'\n",
      "b'url:\"//ssl.gstatic.com/gb/js/abc/gci_91f30755d6a6b787dcc2a4062e6e9824.js\",libs:\"googleapis.client:pl'\n",
      "b'usone:gapi.iframes\"}]);var xb={version:\"gci_91f30755d6a6b787dcc2a4062e6e9824.js\",index:\"\",lang:\"zh-T'\n",
      "b'W\"};y.gc=xb;var yb=function(a){window.googleapis&&window.iframes?a&&a():(a&&ra(a),F(\"gc\"))};p(\"lGC\",'\n",
      "b'yb);h.a(\"1\")&&p(\"lPWF\",yb)};window.__PVT=\"\";if(h.a(\"1\")&&h.a(\"1\")){var zb=function(a){yb(function(){'\n",
      "b'B(\"pw\",a);F(\"pw\")})};p(\"lPW\",zb);z.push([\"pw\",{url:\"//ssl.gstatic.com/gb/js/abc/pwm_45f73e4df07a0e38'\n",
      "b'8b0fa1f3d30e7280.js\"}]);var Bb=[],Cb=function(a){Bb[0]=a},Db=function(a,b){b=b||{};b._sn=\"pw\";r(a,b)'\n",
      "b'},Eb={signed:Bb,elog:Db,base:\"https://plusone.google.com/u/0\",loadTime:(new Date).getTime()};y.pw=Eb'\n",
      "b';var Fb=function(a,b){var c=b.split(\".\");b=function(){var b=arguments;a(function(){for(var a=g,d=0,f'\n",
      "b'=c.length-1;d<f;++d)a=a[c[d]];a[c[d]].apply(a,b)})};for(var d=g,f=0,k=c.length-1;f<\\nk;++f)d=d[c[f]]='\n",
      "b'd[c[f]]||{};return d[c[f]]=b};Fb(zb,\"pw.clk\");Fb(zb,\"pw.hvr\");p(\"su\",Cb,g.pw)};var Gb=[1,2,3,4,5,6,9'\n",
      "b',10,11,13,14,28,29,30,34,35,37,38,39,40,41,42,43,48,49,500];var Hb=h.b(\"0.001\",1E-4),Ib=h.b(\"1\",1),J'\n",
      "b'b=!1,Kb=!1;if(h.a(\"1\")){var Lb=Math.random();Lb<Hb&&(Jb=!0);Lb<Ib&&(Kb=!0)}var R=null;\\nfunction Mb(a'\n",
      "b',b){var c=Hb,d=Jb,f;f=a;if(!R){R={};for(var k=0;k<Gb.length;k++){var m=Gb[k];R[m]=!0}}if(f=!!R[f])c='\n",
      "b'Ib,d=Kb;if(d){var d=encodeURIComponent,n=\"es_plusone_gc_20170223.0_p0\",l;g.rp?(l=g.rp(),l=\"-1\"!=l?l:'\n",
      "b'\"\"):l=\"\";f=(new Date).getTime();var k=d(\"28834\"),m=d(\"5kzGWODGO4Sw0AS84pjYCA\"),t=g.bv.f,C=d(\"1\");l=d'\n",
      "b'(l);var c=Math.round(1/c),T=d(\"1488948154.0\"),n=n?\"&oggv=\"+d(n):\"\",G=d(\"com.tw\"),U=d(\"zh-TW\"),\\nV=d(\"'\n",
      "b'TWN\"),w;w=0;h.a(\"\")&&(w|=1);h.a(\"\")&&(w|=2);h.a(\"\")&&(w|=4);a=[\"//www.google.com/gen_204?atyp=i&zx=\"'\n",
      "b',f,\"&oge=\",a,\"&ogex=\",k,\"&ogev=\",m,\"&ogf=\",t,\"&ogp=\",C,\"&ogrp=\",l,\"&ogsr=\",c,\"&ogv=\",T,n,\"&ogd=\",G,\"'\n",
      "b'&ogl=\",U,\"&ogc=\",V,\"&ogus=\",w];if(b){\"ogw\"in b&&(a.push(\"&ogw=\"+b.ogw),delete b.ogw);var x;f=[];for('\n",
      "b'x in b)0!=f.length&&f.push(\",\"),f.push(Nb(x)),f.push(\".\"),f.push(Nb(b[x]));x=f.join(\"\");\"\"!=x&&(a.pu'\n",
      "b'sh(\"&ogad=\"),a.push(d(x)))}ia(a.join(\"\"))}}\\nfunction Nb(a){\"number\"==typeof a&&(a+=\"\");return\"string'\n",
      "b'\"==typeof a?a.replace(\".\",\"%2E\").replace(\",\",\"%2C\"):a}u=Mb;p(\"il\",u,v);var Ob={};y.il=Ob;var Pb=func'\n",
      "b'tion(a,b,c,d,f,k,m,n,l,t){D(function(){g.paa(a,b,c,d,f,k,m,n,l,t)})},Qb=function(){D(function(){g.pr'\n",
      "b'm()})},Rb=function(a){D(function(){g.spn(a)})},Sb=function(a){D(function(){g.sps(a)})},Tb=function(a'\n",
      "b'){D(function(){g.spp(a)})},Ub={\"27\":\"https://ssl.gstatic.com/gb/images/silhouette_24.png\",\"27\":\"http'\n",
      "b's://ssl.gstatic.com/gb/images/silhouette_24.png\",\"27\":\"https://ssl.gstatic.com/gb/images/silhouette_'\n",
      "b'24.png\"},Vb=function(a){return(a=Ub[a])||\"https://ssl.gstatic.com/gb/images/silhouette_24.png\"},\\nWb='\n",
      "b'function(){D(function(){g.spd()})};p(\"spn\",Rb);p(\"spp\",Tb);p(\"sps\",Sb);p(\"spd\",Wb);p(\"paa\",Pb);p(\"pr'\n",
      "b'm\",Qb);ib(\"gbd4\",Qb);\\nif(h.a(\"\")){var Xb={d:h.a(\"\"),e:\"\",sanw:h.a(\"\"),p:\"https://ssl.gstatic.com/gb/'\n",
      "b'images/silhouette_96.png\",cp:\"1\",xp:h.a(\"1\"),mg:\"%1$s (\\xa4w\\xa9e\\xac\\xa3)\",md:\"%1$s (\\xb9w\\xb3])\",mh:\"220\",s:\"1\",pp:V'\n",
      "b'b,ppl:h.a(\"\"),ppa:h.a(\"\"),\\nppm:\"Google+\\xb1M\\xad\\xb6\"};y.prf=Xb};var S,Yb,W,Zb,X=0,$b=function(a,b,c){if(a.in'\n",
      "b'dexOf)return a.indexOf(b,c);if(Array.indexOf)return Array.indexOf(a,b,c);for(c=null==c?0:0>c?Math.ma'\n",
      "b'x(0,a.length+c):c;c<a.length;c++)if(c in a&&a[c]===b)return c;return-1},Y=function(a,b){return-1==$b'\n",
      "b'(a,X)?(q(Error(X+\"_\"+b),\"up\",\"caa\"),!1):!0},bc=function(a,b){Y([1,2],\"r\")&&(S[a]=S[a]||[],S[a].push('\n",
      "b'b),2==X&&window.setTimeout(function(){b(ac(a))},0))},cc=function(a,b,c){if(Y([1],\"nap\")&&c){for(var '\n",
      "b'd=0;d<c.length;d++)Yb[c[d]]=!0;g.up.spl(a,b,\"nap\",c)}},dc=\\nfunction(a,b,c){if(Y([1],\"aop\")&&c){if(W)'\n",
      "b'for(var d in W)W[d]=W[d]&&-1!=$b(c,d);else for(W={},d=0;d<c.length;d++)W[c[d]]=!0;g.up.spl(a,b,\"aop\"'\n",
      "b',c)}},ec=function(){try{if(X=2,!Zb){Zb=!0;for(var a in S)for(var b=S[a],c=0;c<b.length;c++)try{b[c]('\n",
      "b'ac(a))}catch(d){q(d,\"up\",\"tp\")}}}catch(d){q(d,\"up\",\"mtp\")}},ac=function(a){if(Y([2],\"ssp\")){var b=!Y'\n",
      "b'b[a];W&&(b=b&&!!W[a]);return b}};Zb=!1;S={};Yb={};W=null;\\nvar X=1,fc=function(a){var b=!1;try{b=a.co'\n",
      "b'okie&&a.cookie.match(\"PREF\")}catch(c){}return!b},gc=function(){try{return!!e.localStorage&&\"object\"='\n",
      "b'=typeof e.localStorage}catch(a){return!1}},hc=function(a){return a&&a.style&&a.style.behavior&&\"unde'\n",
      "b'fined\"!=typeof a.load},ic=function(a,b,c,d){try{fc(document)||(d||(b=\"og-up-\"+b),gc()?e.localStorage'\n",
      "b'.setItem(b,c):hc(a)&&(a.setAttribute(b,c),a.save(a.id)))}catch(f){f.code!=DOMException.QUOTA_EXCEEDE'\n",
      "b'D_ERR&&q(f,\"up\",\"spd\")}},jc=function(a,b,c){try{if(fc(document))return\"\";\\nc||(b=\"og-up-\"+b);if(gc())'\n",
      "b'return e.localStorage.getItem(b);if(hc(a))return a.load(a.id),a.getAttribute(b)}catch(d){d.code!=DOM'\n",
      "b'Exception.QUOTA_EXCEEDED_ERR&&q(d,\"up\",\"gpd\")}return\"\"},kc=function(a,b,c){a.addEventListener?a.addE'\n",
      "b'ventListener(b,c,!1):a.attachEvent&&a.attachEvent(\"on\"+b,c)},lc=function(a){for(var b=0,c;c=a[b];b++'\n",
      "b'){var d=g.up;c=c in d&&d[c];if(!c)return!1}return!0},mc=function(a,b){try{if(fc(a))return-1;var c=a.'\n",
      "b'cookie.match(/OGPC=([^;]*)/);if(c&&c[1]){var d=c[1].match(new RegExp(\"\\\\\\\\b\"+\\nb+\"-([0-9]+):\"));if(d&&d'\n",
      "b'[1])return parseInt(d[1],10)}}catch(f){f.code!=DOMException.QUOTA_EXCEEDED_ERR&&q(f,\"up\",\"gcc\")}retu'\n",
      "b'rn-1};p(\"up\",{r:bc,nap:cc,aop:dc,tp:ec,ssp:ac,spd:ic,gpd:jc,aeh:kc,aal:lc,gcc:mc});var Z=function(a,'\n",
      "b'b){a[b]=function(c){var d=arguments;g.qm(function(){a[b].apply(this,d)})}};Z(g.up,\"sl\");Z(g.up,\"si\")'\n",
      "b';Z(g.up,\"spl\");Z(g.up,\"dpc\");Z(g.up,\"iic\");g.mcf(\"up\",{sp:h.b(\"0.01\",1),tld:\"com.tw\",prid:\"1\"});func'\n",
      "b'tion nc(){function a(){for(var b;(b=k[m++])&&\"m\"!=b[0]&&!b[1].auto;);b&&(qa(2,b[0]),b[1].url&&pa(b[1'\n",
      "b'].url,b[0]),b[1].libs&&E&&E(b[1].libs));m<k.length&&setTimeout(a,0)}function b(){0<f--?setTimeout(b,'\n",
      "b'0):a()}var c=h.a(\"1\"),d=h.a(\"\"),f=3,k=z,m=0,n=window.gbarOnReady;if(n)try{n()}catch(l){q(l,\"ml\",\"or\"'\n",
      "b')}d?p(\"ldb\",a):c?ca(window,\"load\",b):b()}p(\"rdl\",nc);}catch(e){window.gbar&&gbar.logger&&gbar.logger'\n",
      "b'.ml(e,{\"_sn\":\"cfg.init\"});}})();\\n(function(){try{var a=window.gbar;a.mcf(\"pm\",{p:\"\"});}catch(e){wind'\n",
      "b'ow.gbar&&gbar.logger&&gbar.logger.ml(e,{\"_sn\":\"cfg.init\"});}})();\\n(function(){try{var a=window.gbar;'\n",
      "b'a.mcf(\"mm\",{s:\"1\"});}catch(e){window.gbar&&gbar.logger&&gbar.logger.ml(e,{\"_sn\":\"cfg.init\"});}})();\\n'\n",
      "b'(function(){try{var d=window.gbar.i.i;var e=window.gbar;var f=e.i;var g=f.c(\"1\",0),h=/\\\\bgbmt\\\\b/,k=fu'\n",
      "b'nction(a){try{var b=document.getElementById(\"gb_\"+g),c=document.getElementById(\"gb_\"+a);b&&f.l(b,h.t'\n",
      "b'est(b.className)?\"gbm0l\":\"gbz0l\");c&&f.k(c,h.test(c.className)?\"gbm0l\":\"gbz0l\")}catch(l){d(l,\"sj\",\"s'\n",
      "b'sp\")}g=a},m=e.qs,n=function(a){var b;b=a.href;var c=window.location.href.match(/.*?:\\\\/\\\\/[^\\\\/]*/)[0],'\n",
      "b'c=new RegExp(\"^\"+c+\"/search\\\\\\\\?\");(b=c.test(b))&&!/(^|\\\\\\\\?|&)ei=/.test(a.href)&&(b=window.google)&&b.k'\n",
      "b'EXPI&&(a.href+=\"&ei=\"+b.kEI)},p=function(a){m(a);\\nn(a)},q=function(){if(window.google&&window.google'\n",
      "b'.sn){var a=/.*hp$/;return a.test(window.google.sn)?\"\":\"1\"}return\"-1\"};e.rp=q;e.slp=k;e.qs=p;e.qsi=n;'\n",
      "b'}catch(e){window.gbar&&gbar.logger&&gbar.logger.ml(e,{\"_sn\":\"cfg.init\"});}})();\\n(function(){try{var '\n",
      "b'a=this;var b=window.gbar;var c=b.i;var d=c.a,e=c.c,f={cty:\"TWN\",cv:\"1488948154\",dbg:d(\"\"),ecv:\"0\",ei'\n",
      "b':e(\"5kzGWODGO4Sw0AS84pjYCA\"),ele:d(\"1\"),esr:e(\"0.1\"),evts:[\"mousedown\",\"touchstart\",\"touchmove\",\"whe'\n",
      "b'el\",\"keydown\"],gbl:\"es_plusone_gc_20170223.0_p0\",hd:\"com.tw\",hl:\"zh-TW\",irp:d(\"\"),pid:e(\"1\"),\\nsnid:e'\n",
      "b'(\"28834\"),to:e(\"300000\"),u:e(\"\"),vf:\".66.41.\"},g=f,h=[\"bndcfg\"],k=a;h[0]in k||!k.execScript||k.execS'\n",
      "b'cript(\"var \"+h[0]);for(var l;h.length&&(l=h.shift());)h.length||void 0===g?k=k[l]&&k[l]!==Object.pro'\n",
      "b'totype[l]?k[l]:k[l]={}:k[l]=g;}catch(e){window.gbar&&gbar.logger&&gbar.logger.ml(e,{\"_sn\":\"cfg.init\"'\n",
      "b'});}})();\\n(function(){try{window.gbar.rdl();}catch(e){window.gbar&&gbar.logger&&gbar.logger.ml(e,{\"_'\n",
      "b'sn\":\"cfg.init\"});}})();\\n</script><link href=\"/images/branding/product/ico/googleg_lodp.ico\" rel=\"sho'\n",
      "b'rtcut icon\"></head><body bgcolor=\"#fff\"><script>(function(){var src=\\'/images/nav_logo229.png\\';var ie'\n",
      "b'sg=false;document.body.onload = function(){window.n && window.n();if (document.images){new Image().s'\n",
      "b'rc=src;}\\nif (!iesg){document.f&&document.f.q.focus();document.gbqf&&document.gbqf.q.focus();}\\n}\\n})()'\n",
      "b';</script><div id=\"mngb\"> <div id=gb><script>window.gbar&&gbar.eli&&gbar.eli()</script><div id=gbw><'\n",
      "b'div id=gbz><span class=gbtcb></span><ol id=gbzc class=gbtc><li class=gbt><a onclick=gbar.logger.il(1'\n",
      "b',{t:1}); class=\"gbzt gbz0l gbp1\" id=gb_1 href=\"https://www.google.com.tw/webhp?tab=ww\"><span class=g'\n",
      "b'btb2></span><span class=gbts>\\xb7j\\xb4M</span></a></li><li class=gbt><a onclick=gbar.logger.il(1,{t:2}); c'\n",
      "b'lass=gbzt id=gb_2 href=\"https://www.google.com.tw/imghp?hl=zh-TW&tab=wi\"><span class=gbtb2></span><s'\n",
      "b'pan class=gbts>\\xb9\\xcf\\xa4\\xf9</span></a></li><li class=gbt><a onclick=gbar.logger.il(1,{t:8}); class=gbzt id=g'\n",
      "b'b_8 href=\"https://maps.google.com.tw/maps?hl=zh-TW&tab=wl\"><span class=gbtb2></span><span class=gbts'\n",
      "b'>\\xa6a\\xb9\\xcf</span></a></li><li class=gbt><a onclick=gbar.logger.il(1,{t:78}); class=gbzt id=gb_78 href=\"ht'\n",
      "b'tps://play.google.com/?hl=zh-TW&tab=w8\"><span class=gbtb2></span><span class=gbts>Play</span></a></l'\n",
      "b'i><li class=gbt><a onclick=gbar.logger.il(1,{t:36}); class=gbzt id=gb_36 href=\"https://www.youtube.c'\n",
      "b'om/?gl=TW&tab=w1\"><span class=gbtb2></span><span class=gbts>YouTube</span></a></li><li class=gbt><a '\n",
      "b'onclick=gbar.logger.il(1,{t:5}); class=gbzt id=gb_5 href=\"https://news.google.com.tw/nwshp?hl=zh-TW&'\n",
      "b'tab=wn\"><span class=gbtb2></span><span class=gbts>\\xb7s\\xbbD</span></a></li><li class=gbt><a onclick=gbar.'\n",
      "b'logger.il(1,{t:23}); class=gbzt id=gb_23 href=\"https://mail.google.com/mail/?tab=wm\"><span class=gbt'\n",
      "b'b2></span><span class=gbts>Gmail</span></a></li><li class=gbt><a onclick=gbar.logger.il(1,{t:49}); c'\n",
      "b'lass=gbzt id=gb_49 href=\"https://drive.google.com/?tab=wo\"><span class=gbtb2></span><span class=gbts'\n",
      "b'>\\xb6\\xb3\\xba\\xdd\\xb5w\\xba\\xd0</span></a></li><li class=gbt><a class=gbgt id=gbztm href=\"https://www.google.com.tw/intl/z'\n",
      "b'h-TW/options/\" onclick=\"gbar.tg(event,this)\" aria-haspopup=true aria-owns=gbd><span class=gbtb2></sp'\n",
      "b'an><span id=gbztms class=\"gbts gbtsa\"><span id=gbztms1>\\xa7\\xf3\\xa6h</span><span class=gbma></span></span></a'\n",
      "b'><div class=gbm id=gbd aria-owner=gbztm><div id=gbmmb class=\"gbmc gbsb gbsbis\"><ol id=gbmm class=\"gb'\n",
      "b'mcc gbsbic\"><li class=gbmtc><a onclick=gbar.logger.il(1,{t:24}); class=gbmt id=gb_24 href=\"https://w'\n",
      "b'ww.google.com/calendar?tab=wc\">\\xa4\\xe9\\xbe\\xe4</a></li><li class=gbmtc><a onclick=gbar.logger.il(1,{t:51}); cla'\n",
      "b'ss=gbmt id=gb_51 href=\"https://translate.google.com.tw/?hl=zh-TW&tab=wT\">\\xc2\\xbd\\xc4\\xb6</a></li><li class=gbmt'\n",
      "b'c><a onclick=gbar.logger.il(1,{t:30}); class=gbmt id=gb_30 href=\"https://www.blogger.com/?tab=wj\">Bl'\n",
      "b'ogger</a></li><li class=gbmtc><a onclick=gbar.logger.il(1,{t:31}); class=gbmt id=gb_31 href=\"https:/'\n",
      "b'/photos.google.com/?tab=wq&pageId=none\">\\xac\\xdb\\xa4\\xf9</a></li><li class=gbmtc><a onclick=gbar.logger.il(1,{t:'\n",
      "b'12}); class=gbmt id=gb_12 href=\"http://video.google.com.tw/?hl=zh-TW&tab=wv\">\\xbcv\\xa4\\xf9</a></li><li class='\n",
      "b'gbmtc><a onclick=gbar.logger.il(1,{t:25}); class=gbmt id=gb_25 href=\"https://docs.google.com/documen'\n",
      "b't/?usp=docs_alc\">\\xa4\\xe5\\xa5\\xf3</a></li><li class=gbmtc><div class=\"gbmt gbmh\"></div></li><li class=gbmtc><a o'\n",
      "b'nclick=gbar.logger.il(1,{t:66}); href=\"https://www.google.com.tw/intl/zh-TW/options/\" class=gbmt>\\xa7\\xf3\\xa6'\n",
      "b'h &raquo;</a></li></ol><div class=gbsbt></div><div class=gbsbb></div></div></div></li></ol></div><di'\n",
      "b'v id=gbg><h2 class=gbxx>Account Options</h2><span class=gbtcb></span><ol class=gbtc><li class=gbt><a'\n",
      "b' target=_top href=\"https://accounts.google.com/ServiceLogin?hl=zh-TW&passive=true&continue=https://w'\n",
      "b'ww.google.com.tw/\" onclick=\"gbar.logger.il(9,{l:\\'i\\'})\" id=gb_70 class=gbgt><span class=gbtb2></span>'\n",
      "b'<span id=gbgs4 class=gbts><span id=gbi4s1>\\xb5n\\xa4J</span></span></a></li><li class=\"gbt gbtb\"><span clas'\n",
      "b's=gbts></span></li><li class=gbt><a class=gbgt id=gbg5 href=\"http://www.google.com.tw/preferences?hl'\n",
      "b'=zh-TW\" title=\"\\xbf\\xef\\xb6\\xb5\" onclick=\"gbar.tg(event,this)\" aria-haspopup=true aria-owns=gbd5><span class=gbt'\n",
      "b'b2></span><span id=gbgs5 class=gbts><span id=gbi5></span></span></a><div class=gbm id=gbd5 aria-owne'\n",
      "b'r=gbg5><div class=gbmc><ol id=gbom class=gbmcc><li class=\"gbkc gbmtc\"><a  class=gbmt href=\"/preferen'\n",
      "b'ces?hl=zh-TW\">\\xb7j\\xb4M\\xb3]\\xa9w</a></li><li class=gbmtc><div class=\"gbmt gbmh\"></div></li><li class=\"gbkp gbm'\n",
      "b'tc\"><a class=gbmt href=\"http://www.google.com.tw/history/optout?hl=zh-TW\">\\xba\\xf4\\xad\\xb6\\xac\\xf6\\xbf\\xfd</a></li></ol></di'\n",
      "b'v></div></li></ol></div></div><div id=gbx3></div><div id=gbx4></div><script>window.gbar&&gbar.elp&&g'\n",
      "b'bar.elp()</script></div> </div><center><br clear=\"all\" id=\"lgpd\"><div id=\"lga\"><a href=\"/search?site'\n",
      "b'=&amp;ie=UTF-8&amp;q=%E7%81%91%E7%B4%85%E7%AF%80&amp;oi=ddle&amp;ct=holi-festival-2017-5750729821126'\n",
      "b'656-hp&amp;hl=zh-TW&amp;sa=X&amp;ved=0ahUKEwi287yX_dLSAhXCsJQKHQZfCLcQPQgD\"><img alt=\"2017 \\xa6L\\xab\\xd7\\xc5x\\xac\\xf5\\xb8'\n",
      "b'`\" border=\"0\" height=\"150\" src=\"/logos/doodles/2017/holi-festival-2017-5750729821126656-hp.gif\" titl'\n",
      "b'e=\"2017 \\xa6L\\xab\\xd7\\xc5x\\xac\\xf5\\xb8`\" width=\"420\" id=\"hplogo\" onload=\"window.lol&&lol()\"><br></a><br></div><form actio'\n",
      "b'n=\"/search\" name=\"f\"><table cellpadding=\"0\" cellspacing=\"0\"><tr valign=\"top\"><td width=\"25%\">&nbsp;<'\n",
      "b'/td><td align=\"center\" nowrap=\"\"><input name=\"ie\" value=\"Big5\" type=\"hidden\"><input value=\"zh-TW\" na'\n",
      "b'me=\"hl\" type=\"hidden\"><input name=\"source\" type=\"hidden\" value=\"hp\"><input name=\"biw\" type=\"hidden\">'\n",
      "b'<input name=\"bih\" type=\"hidden\"><div class=\"ds\" style=\"height:32px;margin:4px 0\"><input style=\"color'\n",
      "b':#000;margin:0;padding:5px 8px 0 6px;vertical-align:top\" autocomplete=\"off\" class=\"lst\" value=\"\" tit'\n",
      "b'le=\"Google \\xb7j\\xb4M\" maxlength=\"2048\" name=\"q\" size=\"57\"></div><br style=\"line-height:0\"><span class=\"ds'\n",
      "b'\"><span class=\"lsbb\"><input class=\"lsb\" value=\"Google \\xb7j\\xb4M\" name=\"btnG\" type=\"submit\"></span></span>'\n",
      "b'<span class=\"ds\"><span class=\"lsbb\"><input class=\"lsb\" value=\"\\xa6n\\xa4\\xe2\\xae\\xf0\" name=\"btnI\" onclick=\"if(this.f'\n",
      "b'orm.q.value)this.checked=1; else top.location=\\'/doodles/\\'\" type=\"submit\"></span></span></td><td clas'\n",
      "b's=\"fl sblc\" align=\"left\" nowrap=\"\" width=\"25%\"><a href=\"/advanced_search?hl=zh-TW&amp;authuser=0\">\\xb6i'\n",
      "b'\\xb6\\xa5\\xb7j\\xb4M</a><a href=\"/language_tools?hl=zh-TW&amp;authuser=0\">\\xbby\\xa8\\xa5\\xa4u\\xa8\\xe3</a></td></tr></table><input id='\n",
      "b'\"gbv\" name=\"gbv\" type=\"hidden\" value=\"1\"><script>(function(){var a,b=\"1\";if(document&&document.getEl'\n",
      "b'ementById)if(\"undefined\"!=typeof XMLHttpRequest)b=\"2\";else if(\"undefined\"!=typeof ActiveXObject){var'\n",
      "b' c,d,e=[\"MSXML2.XMLHTTP.6.0\",\"MSXML2.XMLHTTP.3.0\",\"MSXML2.XMLHTTP\",\"Microsoft.XMLHTTP\"];for(c=0;d=e['\n",
      "b'c++];)try{new ActiveXObject(d),b=\"2\"}catch(h){}}a=b;if(\"2\"==a&&-1==location.search.indexOf(\"&gbv=2\")'\n",
      "b'){var f=google.gbvu,g=document.getElementById(\"gbv\");g&&(g.value=a);f&&window.setTimeout(function(){'\n",
      "b'location.href=f},0)};}).call(this);</script></form><div id=\"gac_scont\"></div><div style=\"font-size:8'\n",
      "b'3%;min-height:3.5em\"><br></div><span id=\"footer\"><div style=\"font-size:10pt\"><div style=\"margin:19px'\n",
      "b' auto;text-align:center\" id=\"fll\"><a href=\"/intl/zh-TW/ads/\">\\xbcs\\xa7i\\xaaA\\xb0\\xc8</a><a href=\"http://www.google.'\n",
      "b'com.tw/intl/zh-TW/services/\">\\xb0\\xd3\\xb7~\\xb8\\xd1\\xa8M\\xa4\\xe8\\xae\\xd7</a><a href=\"/intl/zh-TW/about.html\">Google \\xa7\\xb9\\xa5\\xfe\\xa4\\xe2\\xa5U</a><a '\n",
      "b'href=\"https://www.google.com.tw/setprefdomain?prefdom=US&amp;sig=__hQKwVhlOgYJebMfyCxmWC2nm3gE%3D\" i'\n",
      "b'd=\"fehl\">Google.com</a></div></div><p style=\"color:#767676;font-size:8pt\">&copy; 2017 - <a href=\"/in'\n",
      "b'tl/zh-TW/policies/privacy/\">\\xc1\\xf4\\xa8p\\xc5v</a> - <a href=\"/intl/zh-TW/policies/terms/\">\\xaaA\\xb0\\xc8\\xb1\\xf8\\xb4\\xda</a></p></spa'\n",
      "b'n></center><script>(function(){window.google.cdo={height:0,width:0};(function(){var a=window.innerWi'\n",
      "b'dth,b=window.innerHeight;if(!a||!b)var c=window.document,d=\"CSS1Compat\"==c.compatMode?c.documentElem'\n",
      "b'ent:c.body,a=d.clientWidth,b=d.clientHeight;a&&b&&(a!=google.cdo.width||b!=google.cdo.height)&&googl'\n",
      "b'e.log(\"\",\"\",\"/client_204?&atyp=i&biw=\"+a+\"&bih=\"+b+\"&ei=\"+google.kEI);}).call(this);})();</script><d'\n",
      "b'iv id=\"xjsd\"></div><div id=\"xjsi\"><script>(function(){function c(b){window.setTimeout(function(){var'\n",
      "b' a=document.createElement(\"script\");a.src=b;document.getElementById(\"xjsd\").appendChild(a)},0)}googl'\n",
      "b'e.dljp=function(b,a){google.xjsu=b;c(a)};google.dlj=c;}).call(this);(function(){window.google.xjsrm='\n",
      "b'[];})();if(google.y)google.y.first=[];if(!google.xjs){window._=window._||{};window._._DumpException='\n",
      "b'function(e){throw e};if(google.timers&&google.timers.load.t){google.timers.load.t.xjsls=new Date().g'\n",
      "b\"etTime();}google.dljp('/xjs/_/js/k\\\\x3dxjs.hp.en_US.qWyNDPmYk0M.O/m\\\\x3dsb_he,d/am\\\\x3dgA/rt\\\\x3dj/d\\\\x3d\"\n",
      "b\"1/t\\\\x3dzcms/rs\\\\x3dACT90oGnFhl0DdMldEWigofsiaiPa94Ciw','/xjs/_/js/k\\\\x3dxjs.hp.en_US.qWyNDPmYk0M.O/m\\\\x\"\n",
      "b\"3dsb_he,d/am\\\\x3dgA/rt\\\\x3dj/d\\\\x3d1/t\\\\x3dzcms/rs\\\\x3dACT90oGnFhl0DdMldEWigofsiaiPa94Ciw');google.xjs=1;\"\n",
      "b'}google.pmc={\"sb_he\":{\"agen\":true,\"cgen\":true,\"client\":\"heirloom-hp\",\"dh\":true,\"dhqt\":true,\"ds\":\"\",\"'\n",
      "b'fl\":true,\"host\":\"google.com.tw\",\"isbh\":28,\"jam\":0,\"jsonp\":true,\"msgs\":{\"cibl\":\"\\xb2M\\xb0\\xa3\\xb7j\\xb4M\",\"dym\":\"\\xb1z\\xacO'\n",
      "b'\\xa4\\xa3\\xacO\\xadn\\xacd\\xa1G\",\"lcky\":\"\\xa6n\\xa4\\xe2\\xae\\xf0\",\"lml\":\"\\xc1A\\xb8\\xd1\\xb8\\xd4\\xb1\\xa1\",\"oskt\":\"\\xbf\\xe9\\xa4J\\xa4u\\xa8\\xe3\",\"psrc\":\"\\xa4w\\xb1q\\xb1z\\xaa\\xba\\xa1u\\\\u003Ca href=\\\\\"/his'\n",
      "b'tory\\\\\"\\\\u003E\\xba\\xf4\\xad\\xb6\\xac\\xf6\\xbf\\xfd\\\\u003C/a\\\\u003E\\xa1v\\xa4\\xa4\\xb2\\xbe\\xb0\\xa3\\xb3o\\xb5\\xa7\\xb7j\\xb4M\\xac\\xf6\\xbf\\xfd\",\"psrl\":\"\\xb2\\xbe\\xb0\\xa3\",\"sbit\":\"\\xa5H\\xb9\\xcf\\xb7j\\xb4M\",\"srch\":\"Goog'\n",
      "b'le \\xb7j\\xb4M\"},\"nds\":true,\"ovr\":{},\"pq\":\"\",\"refpd\":true,\"refspre\":true,\"rfs\":[],\"sbpl\":24,\"sbpr\":24,\"scd\"'\n",
      "b':10,\"sce\":5,\"stok\":\"GCY45qhh1ykmaawexBLDukLPIy8\"},\"d\":{},\"YFCs/g\":{}};google.y.first.push(function()'\n",
      "b\"{if(google.med){google.med('init');google.initHistory();google.med('history');}});if(google.j&&googl\"\n",
      "b'e.j.en&&google.j.xi){window.setTimeout(google.j.xi,0);}\\n</script></div></body></html>'\n"
     ]
    }
   ],
   "source": [
    "# The following example demonstrates reading data in chunks.\n",
    "import http.client\n",
    "conn2 = http.client.HTTPSConnection(\"www.google.com.tw\")\n",
    "conn2.request(\"GET\", \"/\")\n",
    "r2 = conn2.getresponse()\n",
    "body = r2.read(100)\n",
    "while body:\n",
    "    print(body)\n",
    "    body = r2.read(100) # 1024 bytes\n",
    "conn2.close()"
   ]
  },
  {
   "cell_type": "code",
   "execution_count": 21,
   "metadata": {
    "collapsed": false
   },
   "outputs": [
    {
     "name": "stdout",
     "output_type": "stream",
     "text": [
      "302 Found\n",
      "b'Redirecting to <a href=\"http://bugs.python.org/issue12524\">http://bugs.python.org/issue12524</a>'\n"
     ]
    }
   ],
   "source": [
    "import http.client, urllib.parse\n",
    "params = urllib.parse.urlencode({'@number': 12524, '@type': 'issue', '@action': 'show'})\n",
    "headers = {\"Content-type\": \"application/x-www-form-urlencoded\",\n",
    "           \"Accept\": \"text/plain\"}\n",
    "\n",
    "conn = http.client.HTTPConnection(\"bugs.python.org\")\n",
    "conn.request(method = \"POST\", url = \"\", body = params, headers = headers)\n",
    "response = conn.getresponse()\n",
    "print(response.status, response.reason)\n",
    "\n",
    "data = response.read()\n",
    "print(data)\n",
    "conn.close()"
   ]
  }
 ],
 "metadata": {
  "kernelspec": {
   "display_name": "Python 3",
   "language": "python",
   "name": "python3"
  },
  "language_info": {
   "codemirror_mode": {
    "name": "ipython",
    "version": 3
   },
   "file_extension": ".py",
   "mimetype": "text/x-python",
   "name": "python",
   "nbconvert_exporter": "python",
   "pygments_lexer": "ipython3",
   "version": "3.6.0"
  }
 },
 "nbformat": 4,
 "nbformat_minor": 2
}
